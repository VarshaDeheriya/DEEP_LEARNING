{
 "cells": [
  {
   "cell_type": "markdown",
   "id": "88e4bf44",
   "metadata": {},
   "source": [
    "#### Description:\n",
    "Breast cancer is the most common cancer amongst women in the world. It accounts for 25% of all cancer cases, and affected over 2.1 Million people in 2015 alone. It starts when cells in the breast begin to grow out of control. These cells usually form tumors that can be seen via X-ray or felt as lumps in the breast area.\n",
    "\n",
    "The key challenges against it’s detection is how to classify tumors into malignant (cancerous) or benign(non cancerous). We ask you to complete the analysis of classifying these tumors using machine learning (with SVMs) and the Breast Cancer Wisconsin (Diagnostic) Dataset.\n",
    "\n",
    "#### Objective:\n",
    "+ Understand the Dataset & cleanup (if required).\n",
    "+ Build classification models to predict whether the cancer type is Malignant or Benign.\n",
    "+ Also fine-tune the hyperparameters & compare the evaluation metrics of various classification algorithms"
   ]
  },
  {
   "cell_type": "markdown",
   "id": "0a7411a5",
   "metadata": {},
   "source": [
    "## Report\n",
    "\n",
    "\n",
    "##### Import the libraries\n",
    "+ import numpy as np \n",
    "+ import pandas as pd\n",
    "+ import matplotlib.pyplot as plt\n",
    "+ import seaborn as sns\n",
    "+ import tensorflow\n",
    "+ from tensorflow import keras\n",
    "+ from keras.models import  Sequential\n",
    "+ from keras.layers import Dense, Dropout\n",
    "+ from keras.layers import BatchNormalization\n",
    "+ from keras.callbacks import EarlyStopping\n",
    "+ from sklearn.preprocessing import StandardScaler\n",
    "+ from sklearn.metrics import accuracy_score\n",
    "+ from mlxtend.plotting import plot_decision_regions\n",
    "\n",
    "\n",
    "#### Loading the dataset\n",
    "+ Check the dataset\n",
    "+ Check the info of data\n",
    "+ Check description of data\n",
    "\n",
    "\n",
    "#### Data Cleaning\n",
    "+ Check for the Null Values\n",
    "+ Check for the duplicates \n",
    "\n",
    "#### Feature Selection using Recursive Feature Elimination (RFE)\n",
    "\n",
    "#### Outliers\n",
    "+ Check for the Outliers\n",
    "+ Remove/ Treatment of outliers\n",
    "\n",
    "#### Data Visualization\n",
    "\n",
    "#### Performing train test split and Building MLP\n",
    "+ Identify the Input and Output\n",
    "+ Segregate the data into train and test part\n",
    "+ perform preprocessing step\n",
    "+ perform fit transform on train data and transform on test data\n",
    "\n",
    "#### Important Steps in MLP\n",
    "##### Create the Architecture using Sequencial\n",
    "+ Crete the model \n",
    "+ specify the no of nurons and activation function like relu, sigmoid and tanh\n",
    "+ Specify the input dimension\n",
    "\n",
    "##### Model Compilation \n",
    "+ Specify the Optimizer\n",
    "+ loss function:\n",
    "  + For Regression: MSE, MAE, Huber loss\n",
    "  + For Classification: Binary cross entropy, Categorical cross entropy\n",
    "+ Specify Metrics as accuracy\n",
    "\n",
    "##### Training the model\n",
    "+ fit the X_train_trans and y_train in the model means leaning the patterns, relationship between input and output\n",
    "+ Specify the batch size\n",
    "+ specify the epochs and validation_split\n",
    "\n",
    "##### MLP Evaluation and Plotting decision surfaces\n",
    "+ check the prediction of X_test_trans\n",
    "+ check the accuracy score\n",
    "+ Try to compair the loss and val_loss using vizualization so can understand the underfitting and overfitting\n",
    "+ plot the decision surface of X_train_trans, y_train\n",
    "+ plot the decision surface of X_test_trans, y_test"
   ]
  },
  {
   "cell_type": "code",
   "execution_count": null,
   "id": "72407087",
   "metadata": {},
   "outputs": [],
   "source": []
  },
  {
   "cell_type": "code",
   "execution_count": 177,
   "id": "c7629b87",
   "metadata": {
    "ExecuteTime": {
     "end_time": "2023-05-24T11:03:25.158428Z",
     "start_time": "2023-05-24T11:03:24.735492Z"
    }
   },
   "outputs": [],
   "source": [
    "import numpy as np \n",
    "import pandas as pd\n",
    "import matplotlib.pyplot as plt\n",
    "import seaborn as sns\n",
    "\n",
    "from IPython.core.interactiveshell import InteractiveShell \n",
    "InteractiveShell.ast_node_interactivity = 'all'\n",
    "\n",
    "import warnings\n",
    "warnings.filterwarnings('ignore')\n",
    "\n",
    "%config InlineBackend.figure_format='retina'"
   ]
  },
  {
   "cell_type": "code",
   "execution_count": 119,
   "id": "6e6ec21b",
   "metadata": {
    "ExecuteTime": {
     "end_time": "2023-05-24T10:36:51.702793Z",
     "start_time": "2023-05-24T10:36:51.682761Z"
    }
   },
   "outputs": [],
   "source": [
    "df = pd.read_csv(r\"E:\\Excel_files\\Deep Learning\\breast-cancer.csv\")"
   ]
  },
  {
   "cell_type": "code",
   "execution_count": 120,
   "id": "2a02f081",
   "metadata": {
    "ExecuteTime": {
     "end_time": "2023-05-24T10:36:52.496608Z",
     "start_time": "2023-05-24T10:36:52.437514Z"
    }
   },
   "outputs": [
    {
     "data": {
      "text/html": [
       "<div>\n",
       "<style scoped>\n",
       "    .dataframe tbody tr th:only-of-type {\n",
       "        vertical-align: middle;\n",
       "    }\n",
       "\n",
       "    .dataframe tbody tr th {\n",
       "        vertical-align: top;\n",
       "    }\n",
       "\n",
       "    .dataframe thead th {\n",
       "        text-align: right;\n",
       "    }\n",
       "</style>\n",
       "<table border=\"1\" class=\"dataframe\">\n",
       "  <thead>\n",
       "    <tr style=\"text-align: right;\">\n",
       "      <th></th>\n",
       "      <th>id</th>\n",
       "      <th>diagnosis</th>\n",
       "      <th>radius_mean</th>\n",
       "      <th>texture_mean</th>\n",
       "      <th>perimeter_mean</th>\n",
       "      <th>area_mean</th>\n",
       "      <th>smoothness_mean</th>\n",
       "      <th>compactness_mean</th>\n",
       "      <th>concavity_mean</th>\n",
       "      <th>concave points_mean</th>\n",
       "      <th>...</th>\n",
       "      <th>radius_worst</th>\n",
       "      <th>texture_worst</th>\n",
       "      <th>perimeter_worst</th>\n",
       "      <th>area_worst</th>\n",
       "      <th>smoothness_worst</th>\n",
       "      <th>compactness_worst</th>\n",
       "      <th>concavity_worst</th>\n",
       "      <th>concave points_worst</th>\n",
       "      <th>symmetry_worst</th>\n",
       "      <th>fractal_dimension_worst</th>\n",
       "    </tr>\n",
       "  </thead>\n",
       "  <tbody>\n",
       "    <tr>\n",
       "      <th>0</th>\n",
       "      <td>842302</td>\n",
       "      <td>M</td>\n",
       "      <td>17.99</td>\n",
       "      <td>10.38</td>\n",
       "      <td>122.80</td>\n",
       "      <td>1001.0</td>\n",
       "      <td>0.11840</td>\n",
       "      <td>0.27760</td>\n",
       "      <td>0.3001</td>\n",
       "      <td>0.14710</td>\n",
       "      <td>...</td>\n",
       "      <td>25.38</td>\n",
       "      <td>17.33</td>\n",
       "      <td>184.60</td>\n",
       "      <td>2019.0</td>\n",
       "      <td>0.1622</td>\n",
       "      <td>0.6656</td>\n",
       "      <td>0.7119</td>\n",
       "      <td>0.2654</td>\n",
       "      <td>0.4601</td>\n",
       "      <td>0.11890</td>\n",
       "    </tr>\n",
       "    <tr>\n",
       "      <th>1</th>\n",
       "      <td>842517</td>\n",
       "      <td>M</td>\n",
       "      <td>20.57</td>\n",
       "      <td>17.77</td>\n",
       "      <td>132.90</td>\n",
       "      <td>1326.0</td>\n",
       "      <td>0.08474</td>\n",
       "      <td>0.07864</td>\n",
       "      <td>0.0869</td>\n",
       "      <td>0.07017</td>\n",
       "      <td>...</td>\n",
       "      <td>24.99</td>\n",
       "      <td>23.41</td>\n",
       "      <td>158.80</td>\n",
       "      <td>1956.0</td>\n",
       "      <td>0.1238</td>\n",
       "      <td>0.1866</td>\n",
       "      <td>0.2416</td>\n",
       "      <td>0.1860</td>\n",
       "      <td>0.2750</td>\n",
       "      <td>0.08902</td>\n",
       "    </tr>\n",
       "    <tr>\n",
       "      <th>2</th>\n",
       "      <td>84300903</td>\n",
       "      <td>M</td>\n",
       "      <td>19.69</td>\n",
       "      <td>21.25</td>\n",
       "      <td>130.00</td>\n",
       "      <td>1203.0</td>\n",
       "      <td>0.10960</td>\n",
       "      <td>0.15990</td>\n",
       "      <td>0.1974</td>\n",
       "      <td>0.12790</td>\n",
       "      <td>...</td>\n",
       "      <td>23.57</td>\n",
       "      <td>25.53</td>\n",
       "      <td>152.50</td>\n",
       "      <td>1709.0</td>\n",
       "      <td>0.1444</td>\n",
       "      <td>0.4245</td>\n",
       "      <td>0.4504</td>\n",
       "      <td>0.2430</td>\n",
       "      <td>0.3613</td>\n",
       "      <td>0.08758</td>\n",
       "    </tr>\n",
       "    <tr>\n",
       "      <th>3</th>\n",
       "      <td>84348301</td>\n",
       "      <td>M</td>\n",
       "      <td>11.42</td>\n",
       "      <td>20.38</td>\n",
       "      <td>77.58</td>\n",
       "      <td>386.1</td>\n",
       "      <td>0.14250</td>\n",
       "      <td>0.28390</td>\n",
       "      <td>0.2414</td>\n",
       "      <td>0.10520</td>\n",
       "      <td>...</td>\n",
       "      <td>14.91</td>\n",
       "      <td>26.50</td>\n",
       "      <td>98.87</td>\n",
       "      <td>567.7</td>\n",
       "      <td>0.2098</td>\n",
       "      <td>0.8663</td>\n",
       "      <td>0.6869</td>\n",
       "      <td>0.2575</td>\n",
       "      <td>0.6638</td>\n",
       "      <td>0.17300</td>\n",
       "    </tr>\n",
       "    <tr>\n",
       "      <th>4</th>\n",
       "      <td>84358402</td>\n",
       "      <td>M</td>\n",
       "      <td>20.29</td>\n",
       "      <td>14.34</td>\n",
       "      <td>135.10</td>\n",
       "      <td>1297.0</td>\n",
       "      <td>0.10030</td>\n",
       "      <td>0.13280</td>\n",
       "      <td>0.1980</td>\n",
       "      <td>0.10430</td>\n",
       "      <td>...</td>\n",
       "      <td>22.54</td>\n",
       "      <td>16.67</td>\n",
       "      <td>152.20</td>\n",
       "      <td>1575.0</td>\n",
       "      <td>0.1374</td>\n",
       "      <td>0.2050</td>\n",
       "      <td>0.4000</td>\n",
       "      <td>0.1625</td>\n",
       "      <td>0.2364</td>\n",
       "      <td>0.07678</td>\n",
       "    </tr>\n",
       "  </tbody>\n",
       "</table>\n",
       "<p>5 rows × 32 columns</p>\n",
       "</div>"
      ],
      "text/plain": [
       "         id diagnosis  radius_mean  texture_mean  perimeter_mean  area_mean   \n",
       "0    842302         M        17.99         10.38          122.80     1001.0  \\\n",
       "1    842517         M        20.57         17.77          132.90     1326.0   \n",
       "2  84300903         M        19.69         21.25          130.00     1203.0   \n",
       "3  84348301         M        11.42         20.38           77.58      386.1   \n",
       "4  84358402         M        20.29         14.34          135.10     1297.0   \n",
       "\n",
       "   smoothness_mean  compactness_mean  concavity_mean  concave points_mean   \n",
       "0          0.11840           0.27760          0.3001              0.14710  \\\n",
       "1          0.08474           0.07864          0.0869              0.07017   \n",
       "2          0.10960           0.15990          0.1974              0.12790   \n",
       "3          0.14250           0.28390          0.2414              0.10520   \n",
       "4          0.10030           0.13280          0.1980              0.10430   \n",
       "\n",
       "   ...  radius_worst  texture_worst  perimeter_worst  area_worst   \n",
       "0  ...         25.38          17.33           184.60      2019.0  \\\n",
       "1  ...         24.99          23.41           158.80      1956.0   \n",
       "2  ...         23.57          25.53           152.50      1709.0   \n",
       "3  ...         14.91          26.50            98.87       567.7   \n",
       "4  ...         22.54          16.67           152.20      1575.0   \n",
       "\n",
       "   smoothness_worst  compactness_worst  concavity_worst  concave points_worst   \n",
       "0            0.1622             0.6656           0.7119                0.2654  \\\n",
       "1            0.1238             0.1866           0.2416                0.1860   \n",
       "2            0.1444             0.4245           0.4504                0.2430   \n",
       "3            0.2098             0.8663           0.6869                0.2575   \n",
       "4            0.1374             0.2050           0.4000                0.1625   \n",
       "\n",
       "   symmetry_worst  fractal_dimension_worst  \n",
       "0          0.4601                  0.11890  \n",
       "1          0.2750                  0.08902  \n",
       "2          0.3613                  0.08758  \n",
       "3          0.6638                  0.17300  \n",
       "4          0.2364                  0.07678  \n",
       "\n",
       "[5 rows x 32 columns]"
      ]
     },
     "execution_count": 120,
     "metadata": {},
     "output_type": "execute_result"
    }
   ],
   "source": [
    "df.head()"
   ]
  },
  {
   "cell_type": "code",
   "execution_count": 121,
   "id": "03ff4116",
   "metadata": {
    "ExecuteTime": {
     "end_time": "2023-05-24T10:36:53.071167Z",
     "start_time": "2023-05-24T10:36:53.056143Z"
    }
   },
   "outputs": [
    {
     "data": {
      "text/plain": [
       "(569, 32)"
      ]
     },
     "execution_count": 121,
     "metadata": {},
     "output_type": "execute_result"
    }
   ],
   "source": [
    "df.shape"
   ]
  },
  {
   "cell_type": "code",
   "execution_count": 122,
   "id": "8ce9a1fd",
   "metadata": {
    "ExecuteTime": {
     "end_time": "2023-05-24T10:36:53.656887Z",
     "start_time": "2023-05-24T10:36:53.633852Z"
    }
   },
   "outputs": [
    {
     "name": "stdout",
     "output_type": "stream",
     "text": [
      "<class 'pandas.core.frame.DataFrame'>\n",
      "RangeIndex: 569 entries, 0 to 568\n",
      "Data columns (total 32 columns):\n",
      " #   Column                   Non-Null Count  Dtype  \n",
      "---  ------                   --------------  -----  \n",
      " 0   id                       569 non-null    int64  \n",
      " 1   diagnosis                569 non-null    object \n",
      " 2   radius_mean              569 non-null    float64\n",
      " 3   texture_mean             569 non-null    float64\n",
      " 4   perimeter_mean           569 non-null    float64\n",
      " 5   area_mean                569 non-null    float64\n",
      " 6   smoothness_mean          569 non-null    float64\n",
      " 7   compactness_mean         569 non-null    float64\n",
      " 8   concavity_mean           569 non-null    float64\n",
      " 9   concave points_mean      569 non-null    float64\n",
      " 10  symmetry_mean            569 non-null    float64\n",
      " 11  fractal_dimension_mean   569 non-null    float64\n",
      " 12  radius_se                569 non-null    float64\n",
      " 13  texture_se               569 non-null    float64\n",
      " 14  perimeter_se             569 non-null    float64\n",
      " 15  area_se                  569 non-null    float64\n",
      " 16  smoothness_se            569 non-null    float64\n",
      " 17  compactness_se           569 non-null    float64\n",
      " 18  concavity_se             569 non-null    float64\n",
      " 19  concave points_se        569 non-null    float64\n",
      " 20  symmetry_se              569 non-null    float64\n",
      " 21  fractal_dimension_se     569 non-null    float64\n",
      " 22  radius_worst             569 non-null    float64\n",
      " 23  texture_worst            569 non-null    float64\n",
      " 24  perimeter_worst          569 non-null    float64\n",
      " 25  area_worst               569 non-null    float64\n",
      " 26  smoothness_worst         569 non-null    float64\n",
      " 27  compactness_worst        569 non-null    float64\n",
      " 28  concavity_worst          569 non-null    float64\n",
      " 29  concave points_worst     569 non-null    float64\n",
      " 30  symmetry_worst           569 non-null    float64\n",
      " 31  fractal_dimension_worst  569 non-null    float64\n",
      "dtypes: float64(30), int64(1), object(1)\n",
      "memory usage: 142.4+ KB\n"
     ]
    }
   ],
   "source": [
    "df.info()"
   ]
  },
  {
   "cell_type": "code",
   "execution_count": 123,
   "id": "3b993cdc",
   "metadata": {
    "ExecuteTime": {
     "end_time": "2023-05-24T10:36:54.386883Z",
     "start_time": "2023-05-24T10:36:54.210612Z"
    }
   },
   "outputs": [
    {
     "data": {
      "text/html": [
       "<div>\n",
       "<style scoped>\n",
       "    .dataframe tbody tr th:only-of-type {\n",
       "        vertical-align: middle;\n",
       "    }\n",
       "\n",
       "    .dataframe tbody tr th {\n",
       "        vertical-align: top;\n",
       "    }\n",
       "\n",
       "    .dataframe thead th {\n",
       "        text-align: right;\n",
       "    }\n",
       "</style>\n",
       "<table border=\"1\" class=\"dataframe\">\n",
       "  <thead>\n",
       "    <tr style=\"text-align: right;\">\n",
       "      <th></th>\n",
       "      <th>id</th>\n",
       "      <th>radius_mean</th>\n",
       "      <th>texture_mean</th>\n",
       "      <th>perimeter_mean</th>\n",
       "      <th>area_mean</th>\n",
       "      <th>smoothness_mean</th>\n",
       "      <th>compactness_mean</th>\n",
       "      <th>concavity_mean</th>\n",
       "      <th>concave points_mean</th>\n",
       "      <th>symmetry_mean</th>\n",
       "      <th>...</th>\n",
       "      <th>radius_worst</th>\n",
       "      <th>texture_worst</th>\n",
       "      <th>perimeter_worst</th>\n",
       "      <th>area_worst</th>\n",
       "      <th>smoothness_worst</th>\n",
       "      <th>compactness_worst</th>\n",
       "      <th>concavity_worst</th>\n",
       "      <th>concave points_worst</th>\n",
       "      <th>symmetry_worst</th>\n",
       "      <th>fractal_dimension_worst</th>\n",
       "    </tr>\n",
       "  </thead>\n",
       "  <tbody>\n",
       "    <tr>\n",
       "      <th>count</th>\n",
       "      <td>5.690000e+02</td>\n",
       "      <td>569.000000</td>\n",
       "      <td>569.000000</td>\n",
       "      <td>569.000000</td>\n",
       "      <td>569.000000</td>\n",
       "      <td>569.000000</td>\n",
       "      <td>569.000000</td>\n",
       "      <td>569.000000</td>\n",
       "      <td>569.000000</td>\n",
       "      <td>569.000000</td>\n",
       "      <td>...</td>\n",
       "      <td>569.000000</td>\n",
       "      <td>569.000000</td>\n",
       "      <td>569.000000</td>\n",
       "      <td>569.000000</td>\n",
       "      <td>569.000000</td>\n",
       "      <td>569.000000</td>\n",
       "      <td>569.000000</td>\n",
       "      <td>569.000000</td>\n",
       "      <td>569.000000</td>\n",
       "      <td>569.000000</td>\n",
       "    </tr>\n",
       "    <tr>\n",
       "      <th>mean</th>\n",
       "      <td>3.037183e+07</td>\n",
       "      <td>14.127292</td>\n",
       "      <td>19.289649</td>\n",
       "      <td>91.969033</td>\n",
       "      <td>654.889104</td>\n",
       "      <td>0.096360</td>\n",
       "      <td>0.104341</td>\n",
       "      <td>0.088799</td>\n",
       "      <td>0.048919</td>\n",
       "      <td>0.181162</td>\n",
       "      <td>...</td>\n",
       "      <td>16.269190</td>\n",
       "      <td>25.677223</td>\n",
       "      <td>107.261213</td>\n",
       "      <td>880.583128</td>\n",
       "      <td>0.132369</td>\n",
       "      <td>0.254265</td>\n",
       "      <td>0.272188</td>\n",
       "      <td>0.114606</td>\n",
       "      <td>0.290076</td>\n",
       "      <td>0.083946</td>\n",
       "    </tr>\n",
       "    <tr>\n",
       "      <th>std</th>\n",
       "      <td>1.250206e+08</td>\n",
       "      <td>3.524049</td>\n",
       "      <td>4.301036</td>\n",
       "      <td>24.298981</td>\n",
       "      <td>351.914129</td>\n",
       "      <td>0.014064</td>\n",
       "      <td>0.052813</td>\n",
       "      <td>0.079720</td>\n",
       "      <td>0.038803</td>\n",
       "      <td>0.027414</td>\n",
       "      <td>...</td>\n",
       "      <td>4.833242</td>\n",
       "      <td>6.146258</td>\n",
       "      <td>33.602542</td>\n",
       "      <td>569.356993</td>\n",
       "      <td>0.022832</td>\n",
       "      <td>0.157336</td>\n",
       "      <td>0.208624</td>\n",
       "      <td>0.065732</td>\n",
       "      <td>0.061867</td>\n",
       "      <td>0.018061</td>\n",
       "    </tr>\n",
       "    <tr>\n",
       "      <th>min</th>\n",
       "      <td>8.670000e+03</td>\n",
       "      <td>6.981000</td>\n",
       "      <td>9.710000</td>\n",
       "      <td>43.790000</td>\n",
       "      <td>143.500000</td>\n",
       "      <td>0.052630</td>\n",
       "      <td>0.019380</td>\n",
       "      <td>0.000000</td>\n",
       "      <td>0.000000</td>\n",
       "      <td>0.106000</td>\n",
       "      <td>...</td>\n",
       "      <td>7.930000</td>\n",
       "      <td>12.020000</td>\n",
       "      <td>50.410000</td>\n",
       "      <td>185.200000</td>\n",
       "      <td>0.071170</td>\n",
       "      <td>0.027290</td>\n",
       "      <td>0.000000</td>\n",
       "      <td>0.000000</td>\n",
       "      <td>0.156500</td>\n",
       "      <td>0.055040</td>\n",
       "    </tr>\n",
       "    <tr>\n",
       "      <th>25%</th>\n",
       "      <td>8.692180e+05</td>\n",
       "      <td>11.700000</td>\n",
       "      <td>16.170000</td>\n",
       "      <td>75.170000</td>\n",
       "      <td>420.300000</td>\n",
       "      <td>0.086370</td>\n",
       "      <td>0.064920</td>\n",
       "      <td>0.029560</td>\n",
       "      <td>0.020310</td>\n",
       "      <td>0.161900</td>\n",
       "      <td>...</td>\n",
       "      <td>13.010000</td>\n",
       "      <td>21.080000</td>\n",
       "      <td>84.110000</td>\n",
       "      <td>515.300000</td>\n",
       "      <td>0.116600</td>\n",
       "      <td>0.147200</td>\n",
       "      <td>0.114500</td>\n",
       "      <td>0.064930</td>\n",
       "      <td>0.250400</td>\n",
       "      <td>0.071460</td>\n",
       "    </tr>\n",
       "    <tr>\n",
       "      <th>50%</th>\n",
       "      <td>9.060240e+05</td>\n",
       "      <td>13.370000</td>\n",
       "      <td>18.840000</td>\n",
       "      <td>86.240000</td>\n",
       "      <td>551.100000</td>\n",
       "      <td>0.095870</td>\n",
       "      <td>0.092630</td>\n",
       "      <td>0.061540</td>\n",
       "      <td>0.033500</td>\n",
       "      <td>0.179200</td>\n",
       "      <td>...</td>\n",
       "      <td>14.970000</td>\n",
       "      <td>25.410000</td>\n",
       "      <td>97.660000</td>\n",
       "      <td>686.500000</td>\n",
       "      <td>0.131300</td>\n",
       "      <td>0.211900</td>\n",
       "      <td>0.226700</td>\n",
       "      <td>0.099930</td>\n",
       "      <td>0.282200</td>\n",
       "      <td>0.080040</td>\n",
       "    </tr>\n",
       "    <tr>\n",
       "      <th>75%</th>\n",
       "      <td>8.813129e+06</td>\n",
       "      <td>15.780000</td>\n",
       "      <td>21.800000</td>\n",
       "      <td>104.100000</td>\n",
       "      <td>782.700000</td>\n",
       "      <td>0.105300</td>\n",
       "      <td>0.130400</td>\n",
       "      <td>0.130700</td>\n",
       "      <td>0.074000</td>\n",
       "      <td>0.195700</td>\n",
       "      <td>...</td>\n",
       "      <td>18.790000</td>\n",
       "      <td>29.720000</td>\n",
       "      <td>125.400000</td>\n",
       "      <td>1084.000000</td>\n",
       "      <td>0.146000</td>\n",
       "      <td>0.339100</td>\n",
       "      <td>0.382900</td>\n",
       "      <td>0.161400</td>\n",
       "      <td>0.317900</td>\n",
       "      <td>0.092080</td>\n",
       "    </tr>\n",
       "    <tr>\n",
       "      <th>max</th>\n",
       "      <td>9.113205e+08</td>\n",
       "      <td>28.110000</td>\n",
       "      <td>39.280000</td>\n",
       "      <td>188.500000</td>\n",
       "      <td>2501.000000</td>\n",
       "      <td>0.163400</td>\n",
       "      <td>0.345400</td>\n",
       "      <td>0.426800</td>\n",
       "      <td>0.201200</td>\n",
       "      <td>0.304000</td>\n",
       "      <td>...</td>\n",
       "      <td>36.040000</td>\n",
       "      <td>49.540000</td>\n",
       "      <td>251.200000</td>\n",
       "      <td>4254.000000</td>\n",
       "      <td>0.222600</td>\n",
       "      <td>1.058000</td>\n",
       "      <td>1.252000</td>\n",
       "      <td>0.291000</td>\n",
       "      <td>0.663800</td>\n",
       "      <td>0.207500</td>\n",
       "    </tr>\n",
       "  </tbody>\n",
       "</table>\n",
       "<p>8 rows × 31 columns</p>\n",
       "</div>"
      ],
      "text/plain": [
       "                 id  radius_mean  texture_mean  perimeter_mean    area_mean   \n",
       "count  5.690000e+02   569.000000    569.000000      569.000000   569.000000  \\\n",
       "mean   3.037183e+07    14.127292     19.289649       91.969033   654.889104   \n",
       "std    1.250206e+08     3.524049      4.301036       24.298981   351.914129   \n",
       "min    8.670000e+03     6.981000      9.710000       43.790000   143.500000   \n",
       "25%    8.692180e+05    11.700000     16.170000       75.170000   420.300000   \n",
       "50%    9.060240e+05    13.370000     18.840000       86.240000   551.100000   \n",
       "75%    8.813129e+06    15.780000     21.800000      104.100000   782.700000   \n",
       "max    9.113205e+08    28.110000     39.280000      188.500000  2501.000000   \n",
       "\n",
       "       smoothness_mean  compactness_mean  concavity_mean  concave points_mean   \n",
       "count       569.000000        569.000000      569.000000           569.000000  \\\n",
       "mean          0.096360          0.104341        0.088799             0.048919   \n",
       "std           0.014064          0.052813        0.079720             0.038803   \n",
       "min           0.052630          0.019380        0.000000             0.000000   \n",
       "25%           0.086370          0.064920        0.029560             0.020310   \n",
       "50%           0.095870          0.092630        0.061540             0.033500   \n",
       "75%           0.105300          0.130400        0.130700             0.074000   \n",
       "max           0.163400          0.345400        0.426800             0.201200   \n",
       "\n",
       "       symmetry_mean  ...  radius_worst  texture_worst  perimeter_worst   \n",
       "count     569.000000  ...    569.000000     569.000000       569.000000  \\\n",
       "mean        0.181162  ...     16.269190      25.677223       107.261213   \n",
       "std         0.027414  ...      4.833242       6.146258        33.602542   \n",
       "min         0.106000  ...      7.930000      12.020000        50.410000   \n",
       "25%         0.161900  ...     13.010000      21.080000        84.110000   \n",
       "50%         0.179200  ...     14.970000      25.410000        97.660000   \n",
       "75%         0.195700  ...     18.790000      29.720000       125.400000   \n",
       "max         0.304000  ...     36.040000      49.540000       251.200000   \n",
       "\n",
       "        area_worst  smoothness_worst  compactness_worst  concavity_worst   \n",
       "count   569.000000        569.000000         569.000000       569.000000  \\\n",
       "mean    880.583128          0.132369           0.254265         0.272188   \n",
       "std     569.356993          0.022832           0.157336         0.208624   \n",
       "min     185.200000          0.071170           0.027290         0.000000   \n",
       "25%     515.300000          0.116600           0.147200         0.114500   \n",
       "50%     686.500000          0.131300           0.211900         0.226700   \n",
       "75%    1084.000000          0.146000           0.339100         0.382900   \n",
       "max    4254.000000          0.222600           1.058000         1.252000   \n",
       "\n",
       "       concave points_worst  symmetry_worst  fractal_dimension_worst  \n",
       "count            569.000000      569.000000               569.000000  \n",
       "mean               0.114606        0.290076                 0.083946  \n",
       "std                0.065732        0.061867                 0.018061  \n",
       "min                0.000000        0.156500                 0.055040  \n",
       "25%                0.064930        0.250400                 0.071460  \n",
       "50%                0.099930        0.282200                 0.080040  \n",
       "75%                0.161400        0.317900                 0.092080  \n",
       "max                0.291000        0.663800                 0.207500  \n",
       "\n",
       "[8 rows x 31 columns]"
      ]
     },
     "execution_count": 123,
     "metadata": {},
     "output_type": "execute_result"
    }
   ],
   "source": [
    "df.describe()"
   ]
  },
  {
   "cell_type": "code",
   "execution_count": 124,
   "id": "3964ac79",
   "metadata": {
    "ExecuteTime": {
     "end_time": "2023-05-24T10:36:54.763126Z",
     "start_time": "2023-05-24T10:36:54.749108Z"
    }
   },
   "outputs": [
    {
     "data": {
      "text/plain": [
       "id                         0\n",
       "diagnosis                  0\n",
       "radius_mean                0\n",
       "texture_mean               0\n",
       "perimeter_mean             0\n",
       "area_mean                  0\n",
       "smoothness_mean            0\n",
       "compactness_mean           0\n",
       "concavity_mean             0\n",
       "concave points_mean        0\n",
       "symmetry_mean              0\n",
       "fractal_dimension_mean     0\n",
       "radius_se                  0\n",
       "texture_se                 0\n",
       "perimeter_se               0\n",
       "area_se                    0\n",
       "smoothness_se              0\n",
       "compactness_se             0\n",
       "concavity_se               0\n",
       "concave points_se          0\n",
       "symmetry_se                0\n",
       "fractal_dimension_se       0\n",
       "radius_worst               0\n",
       "texture_worst              0\n",
       "perimeter_worst            0\n",
       "area_worst                 0\n",
       "smoothness_worst           0\n",
       "compactness_worst          0\n",
       "concavity_worst            0\n",
       "concave points_worst       0\n",
       "symmetry_worst             0\n",
       "fractal_dimension_worst    0\n",
       "dtype: int64"
      ]
     },
     "execution_count": 124,
     "metadata": {},
     "output_type": "execute_result"
    }
   ],
   "source": [
    "df.isna().sum()"
   ]
  },
  {
   "cell_type": "code",
   "execution_count": 125,
   "id": "51034e37",
   "metadata": {
    "ExecuteTime": {
     "end_time": "2023-05-24T10:36:55.463809Z",
     "start_time": "2023-05-24T10:36:55.447781Z"
    }
   },
   "outputs": [
    {
     "data": {
      "text/plain": [
       "array(['M', 'B'], dtype=object)"
      ]
     },
     "execution_count": 125,
     "metadata": {},
     "output_type": "execute_result"
    }
   ],
   "source": [
    "df[\"diagnosis\"].unique()"
   ]
  },
  {
   "cell_type": "code",
   "execution_count": 126,
   "id": "23ae80fa",
   "metadata": {
    "ExecuteTime": {
     "end_time": "2023-05-24T10:36:56.064772Z",
     "start_time": "2023-05-24T10:36:56.053755Z"
    }
   },
   "outputs": [],
   "source": [
    "df[\"diagnosis\"] = df[\"diagnosis\"].map({ \"M\": 1, \"B\": 0})"
   ]
  },
  {
   "cell_type": "code",
   "execution_count": 127,
   "id": "3188150b",
   "metadata": {
    "ExecuteTime": {
     "end_time": "2023-05-24T10:36:56.702384Z",
     "start_time": "2023-05-24T10:36:56.686359Z"
    }
   },
   "outputs": [
    {
     "data": {
      "text/plain": [
       "array([1, 0], dtype=int64)"
      ]
     },
     "execution_count": 127,
     "metadata": {},
     "output_type": "execute_result"
    }
   ],
   "source": [
    "df[\"diagnosis\"].unique()"
   ]
  },
  {
   "cell_type": "code",
   "execution_count": 128,
   "id": "69b9bcbf",
   "metadata": {
    "ExecuteTime": {
     "end_time": "2023-05-24T10:36:57.238689Z",
     "start_time": "2023-05-24T10:36:57.232680Z"
    }
   },
   "outputs": [],
   "source": [
    "# pd.Categorical(df.diagnosis).codes"
   ]
  },
  {
   "cell_type": "code",
   "execution_count": 129,
   "id": "4b1caf48",
   "metadata": {
    "ExecuteTime": {
     "end_time": "2023-05-24T10:36:58.046315Z",
     "start_time": "2023-05-24T10:36:57.985220Z"
    }
   },
   "outputs": [
    {
     "data": {
      "text/html": [
       "<div>\n",
       "<style scoped>\n",
       "    .dataframe tbody tr th:only-of-type {\n",
       "        vertical-align: middle;\n",
       "    }\n",
       "\n",
       "    .dataframe tbody tr th {\n",
       "        vertical-align: top;\n",
       "    }\n",
       "\n",
       "    .dataframe thead th {\n",
       "        text-align: right;\n",
       "    }\n",
       "</style>\n",
       "<table border=\"1\" class=\"dataframe\">\n",
       "  <thead>\n",
       "    <tr style=\"text-align: right;\">\n",
       "      <th></th>\n",
       "      <th>id</th>\n",
       "      <th>diagnosis</th>\n",
       "      <th>radius_mean</th>\n",
       "      <th>texture_mean</th>\n",
       "      <th>perimeter_mean</th>\n",
       "      <th>area_mean</th>\n",
       "      <th>smoothness_mean</th>\n",
       "      <th>compactness_mean</th>\n",
       "      <th>concavity_mean</th>\n",
       "      <th>concave points_mean</th>\n",
       "      <th>...</th>\n",
       "      <th>radius_worst</th>\n",
       "      <th>texture_worst</th>\n",
       "      <th>perimeter_worst</th>\n",
       "      <th>area_worst</th>\n",
       "      <th>smoothness_worst</th>\n",
       "      <th>compactness_worst</th>\n",
       "      <th>concavity_worst</th>\n",
       "      <th>concave points_worst</th>\n",
       "      <th>symmetry_worst</th>\n",
       "      <th>fractal_dimension_worst</th>\n",
       "    </tr>\n",
       "  </thead>\n",
       "  <tbody>\n",
       "    <tr>\n",
       "      <th>0</th>\n",
       "      <td>842302</td>\n",
       "      <td>1</td>\n",
       "      <td>17.99</td>\n",
       "      <td>10.38</td>\n",
       "      <td>122.80</td>\n",
       "      <td>1001.0</td>\n",
       "      <td>0.11840</td>\n",
       "      <td>0.27760</td>\n",
       "      <td>0.3001</td>\n",
       "      <td>0.14710</td>\n",
       "      <td>...</td>\n",
       "      <td>25.38</td>\n",
       "      <td>17.33</td>\n",
       "      <td>184.60</td>\n",
       "      <td>2019.0</td>\n",
       "      <td>0.1622</td>\n",
       "      <td>0.6656</td>\n",
       "      <td>0.7119</td>\n",
       "      <td>0.2654</td>\n",
       "      <td>0.4601</td>\n",
       "      <td>0.11890</td>\n",
       "    </tr>\n",
       "    <tr>\n",
       "      <th>1</th>\n",
       "      <td>842517</td>\n",
       "      <td>1</td>\n",
       "      <td>20.57</td>\n",
       "      <td>17.77</td>\n",
       "      <td>132.90</td>\n",
       "      <td>1326.0</td>\n",
       "      <td>0.08474</td>\n",
       "      <td>0.07864</td>\n",
       "      <td>0.0869</td>\n",
       "      <td>0.07017</td>\n",
       "      <td>...</td>\n",
       "      <td>24.99</td>\n",
       "      <td>23.41</td>\n",
       "      <td>158.80</td>\n",
       "      <td>1956.0</td>\n",
       "      <td>0.1238</td>\n",
       "      <td>0.1866</td>\n",
       "      <td>0.2416</td>\n",
       "      <td>0.1860</td>\n",
       "      <td>0.2750</td>\n",
       "      <td>0.08902</td>\n",
       "    </tr>\n",
       "    <tr>\n",
       "      <th>2</th>\n",
       "      <td>84300903</td>\n",
       "      <td>1</td>\n",
       "      <td>19.69</td>\n",
       "      <td>21.25</td>\n",
       "      <td>130.00</td>\n",
       "      <td>1203.0</td>\n",
       "      <td>0.10960</td>\n",
       "      <td>0.15990</td>\n",
       "      <td>0.1974</td>\n",
       "      <td>0.12790</td>\n",
       "      <td>...</td>\n",
       "      <td>23.57</td>\n",
       "      <td>25.53</td>\n",
       "      <td>152.50</td>\n",
       "      <td>1709.0</td>\n",
       "      <td>0.1444</td>\n",
       "      <td>0.4245</td>\n",
       "      <td>0.4504</td>\n",
       "      <td>0.2430</td>\n",
       "      <td>0.3613</td>\n",
       "      <td>0.08758</td>\n",
       "    </tr>\n",
       "    <tr>\n",
       "      <th>3</th>\n",
       "      <td>84348301</td>\n",
       "      <td>1</td>\n",
       "      <td>11.42</td>\n",
       "      <td>20.38</td>\n",
       "      <td>77.58</td>\n",
       "      <td>386.1</td>\n",
       "      <td>0.14250</td>\n",
       "      <td>0.28390</td>\n",
       "      <td>0.2414</td>\n",
       "      <td>0.10520</td>\n",
       "      <td>...</td>\n",
       "      <td>14.91</td>\n",
       "      <td>26.50</td>\n",
       "      <td>98.87</td>\n",
       "      <td>567.7</td>\n",
       "      <td>0.2098</td>\n",
       "      <td>0.8663</td>\n",
       "      <td>0.6869</td>\n",
       "      <td>0.2575</td>\n",
       "      <td>0.6638</td>\n",
       "      <td>0.17300</td>\n",
       "    </tr>\n",
       "    <tr>\n",
       "      <th>4</th>\n",
       "      <td>84358402</td>\n",
       "      <td>1</td>\n",
       "      <td>20.29</td>\n",
       "      <td>14.34</td>\n",
       "      <td>135.10</td>\n",
       "      <td>1297.0</td>\n",
       "      <td>0.10030</td>\n",
       "      <td>0.13280</td>\n",
       "      <td>0.1980</td>\n",
       "      <td>0.10430</td>\n",
       "      <td>...</td>\n",
       "      <td>22.54</td>\n",
       "      <td>16.67</td>\n",
       "      <td>152.20</td>\n",
       "      <td>1575.0</td>\n",
       "      <td>0.1374</td>\n",
       "      <td>0.2050</td>\n",
       "      <td>0.4000</td>\n",
       "      <td>0.1625</td>\n",
       "      <td>0.2364</td>\n",
       "      <td>0.07678</td>\n",
       "    </tr>\n",
       "  </tbody>\n",
       "</table>\n",
       "<p>5 rows × 32 columns</p>\n",
       "</div>"
      ],
      "text/plain": [
       "         id  diagnosis  radius_mean  texture_mean  perimeter_mean  area_mean   \n",
       "0    842302          1        17.99         10.38          122.80     1001.0  \\\n",
       "1    842517          1        20.57         17.77          132.90     1326.0   \n",
       "2  84300903          1        19.69         21.25          130.00     1203.0   \n",
       "3  84348301          1        11.42         20.38           77.58      386.1   \n",
       "4  84358402          1        20.29         14.34          135.10     1297.0   \n",
       "\n",
       "   smoothness_mean  compactness_mean  concavity_mean  concave points_mean   \n",
       "0          0.11840           0.27760          0.3001              0.14710  \\\n",
       "1          0.08474           0.07864          0.0869              0.07017   \n",
       "2          0.10960           0.15990          0.1974              0.12790   \n",
       "3          0.14250           0.28390          0.2414              0.10520   \n",
       "4          0.10030           0.13280          0.1980              0.10430   \n",
       "\n",
       "   ...  radius_worst  texture_worst  perimeter_worst  area_worst   \n",
       "0  ...         25.38          17.33           184.60      2019.0  \\\n",
       "1  ...         24.99          23.41           158.80      1956.0   \n",
       "2  ...         23.57          25.53           152.50      1709.0   \n",
       "3  ...         14.91          26.50            98.87       567.7   \n",
       "4  ...         22.54          16.67           152.20      1575.0   \n",
       "\n",
       "   smoothness_worst  compactness_worst  concavity_worst  concave points_worst   \n",
       "0            0.1622             0.6656           0.7119                0.2654  \\\n",
       "1            0.1238             0.1866           0.2416                0.1860   \n",
       "2            0.1444             0.4245           0.4504                0.2430   \n",
       "3            0.2098             0.8663           0.6869                0.2575   \n",
       "4            0.1374             0.2050           0.4000                0.1625   \n",
       "\n",
       "   symmetry_worst  fractal_dimension_worst  \n",
       "0          0.4601                  0.11890  \n",
       "1          0.2750                  0.08902  \n",
       "2          0.3613                  0.08758  \n",
       "3          0.6638                  0.17300  \n",
       "4          0.2364                  0.07678  \n",
       "\n",
       "[5 rows x 32 columns]"
      ]
     },
     "execution_count": 129,
     "metadata": {},
     "output_type": "execute_result"
    }
   ],
   "source": [
    "df.head()"
   ]
  },
  {
   "cell_type": "code",
   "execution_count": 132,
   "id": "2ef92595",
   "metadata": {
    "ExecuteTime": {
     "end_time": "2023-05-24T10:37:11.475033Z",
     "start_time": "2023-05-24T10:37:11.457007Z"
    }
   },
   "outputs": [],
   "source": [
    "X = df.iloc[:,2:33]\n",
    "\n",
    "y = df.iloc[:,1:2]"
   ]
  },
  {
   "cell_type": "code",
   "execution_count": 133,
   "id": "d78c43bf",
   "metadata": {
    "ExecuteTime": {
     "end_time": "2023-05-24T10:37:11.581199Z",
     "start_time": "2023-05-24T10:37:11.496066Z"
    }
   },
   "outputs": [
    {
     "data": {
      "text/plain": [
       "Index(['radius_mean', 'texture_mean', 'perimeter_mean', 'area_mean',\n",
       "       'smoothness_mean', 'compactness_mean', 'concavity_mean',\n",
       "       'concave points_mean', 'symmetry_mean', 'fractal_dimension_mean',\n",
       "       'radius_se', 'texture_se', 'perimeter_se', 'area_se', 'smoothness_se',\n",
       "       'compactness_se', 'concavity_se', 'concave points_se', 'symmetry_se',\n",
       "       'fractal_dimension_se', 'radius_worst', 'texture_worst',\n",
       "       'perimeter_worst', 'area_worst', 'smoothness_worst',\n",
       "       'compactness_worst', 'concavity_worst', 'concave points_worst',\n",
       "       'symmetry_worst', 'fractal_dimension_worst'],\n",
       "      dtype='object')"
      ]
     },
     "execution_count": 133,
     "metadata": {},
     "output_type": "execute_result"
    }
   ],
   "source": [
    "X.columns"
   ]
  },
  {
   "cell_type": "code",
   "execution_count": 134,
   "id": "de21c24c",
   "metadata": {
    "ExecuteTime": {
     "end_time": "2023-05-24T10:37:21.801867Z",
     "start_time": "2023-05-24T10:37:11.591211Z"
    }
   },
   "outputs": [
    {
     "name": "stderr",
     "output_type": "stream",
     "text": [
      "C:\\Users\\HP PC\\Desktop\\dl1\\lib\\site-packages\\sklearn\\feature_selection\\_rfe.py:299: DataConversionWarning: A column-vector y was passed when a 1d array was expected. Please change the shape of y to (n_samples,), for example using ravel().\n",
      "  estimator.fit(X[:, features], y, **fit_params)\n",
      "C:\\Users\\HP PC\\Desktop\\dl1\\lib\\site-packages\\sklearn\\feature_selection\\_rfe.py:299: DataConversionWarning: A column-vector y was passed when a 1d array was expected. Please change the shape of y to (n_samples,), for example using ravel().\n",
      "  estimator.fit(X[:, features], y, **fit_params)\n",
      "C:\\Users\\HP PC\\Desktop\\dl1\\lib\\site-packages\\sklearn\\feature_selection\\_rfe.py:299: DataConversionWarning: A column-vector y was passed when a 1d array was expected. Please change the shape of y to (n_samples,), for example using ravel().\n",
      "  estimator.fit(X[:, features], y, **fit_params)\n",
      "C:\\Users\\HP PC\\Desktop\\dl1\\lib\\site-packages\\sklearn\\feature_selection\\_rfe.py:299: DataConversionWarning: A column-vector y was passed when a 1d array was expected. Please change the shape of y to (n_samples,), for example using ravel().\n",
      "  estimator.fit(X[:, features], y, **fit_params)\n",
      "C:\\Users\\HP PC\\Desktop\\dl1\\lib\\site-packages\\sklearn\\feature_selection\\_rfe.py:299: DataConversionWarning: A column-vector y was passed when a 1d array was expected. Please change the shape of y to (n_samples,), for example using ravel().\n",
      "  estimator.fit(X[:, features], y, **fit_params)\n",
      "C:\\Users\\HP PC\\Desktop\\dl1\\lib\\site-packages\\sklearn\\feature_selection\\_rfe.py:299: DataConversionWarning: A column-vector y was passed when a 1d array was expected. Please change the shape of y to (n_samples,), for example using ravel().\n",
      "  estimator.fit(X[:, features], y, **fit_params)\n",
      "C:\\Users\\HP PC\\Desktop\\dl1\\lib\\site-packages\\sklearn\\feature_selection\\_rfe.py:299: DataConversionWarning: A column-vector y was passed when a 1d array was expected. Please change the shape of y to (n_samples,), for example using ravel().\n",
      "  estimator.fit(X[:, features], y, **fit_params)\n",
      "C:\\Users\\HP PC\\Desktop\\dl1\\lib\\site-packages\\sklearn\\feature_selection\\_rfe.py:299: DataConversionWarning: A column-vector y was passed when a 1d array was expected. Please change the shape of y to (n_samples,), for example using ravel().\n",
      "  estimator.fit(X[:, features], y, **fit_params)\n",
      "C:\\Users\\HP PC\\Desktop\\dl1\\lib\\site-packages\\sklearn\\feature_selection\\_rfe.py:299: DataConversionWarning: A column-vector y was passed when a 1d array was expected. Please change the shape of y to (n_samples,), for example using ravel().\n",
      "  estimator.fit(X[:, features], y, **fit_params)\n",
      "C:\\Users\\HP PC\\Desktop\\dl1\\lib\\site-packages\\sklearn\\feature_selection\\_rfe.py:299: DataConversionWarning: A column-vector y was passed when a 1d array was expected. Please change the shape of y to (n_samples,), for example using ravel().\n",
      "  estimator.fit(X[:, features], y, **fit_params)\n",
      "C:\\Users\\HP PC\\Desktop\\dl1\\lib\\site-packages\\sklearn\\feature_selection\\_rfe.py:299: DataConversionWarning: A column-vector y was passed when a 1d array was expected. Please change the shape of y to (n_samples,), for example using ravel().\n",
      "  estimator.fit(X[:, features], y, **fit_params)\n",
      "C:\\Users\\HP PC\\Desktop\\dl1\\lib\\site-packages\\sklearn\\feature_selection\\_rfe.py:299: DataConversionWarning: A column-vector y was passed when a 1d array was expected. Please change the shape of y to (n_samples,), for example using ravel().\n",
      "  estimator.fit(X[:, features], y, **fit_params)\n",
      "C:\\Users\\HP PC\\Desktop\\dl1\\lib\\site-packages\\sklearn\\feature_selection\\_rfe.py:299: DataConversionWarning: A column-vector y was passed when a 1d array was expected. Please change the shape of y to (n_samples,), for example using ravel().\n",
      "  estimator.fit(X[:, features], y, **fit_params)\n",
      "C:\\Users\\HP PC\\Desktop\\dl1\\lib\\site-packages\\sklearn\\feature_selection\\_rfe.py:299: DataConversionWarning: A column-vector y was passed when a 1d array was expected. Please change the shape of y to (n_samples,), for example using ravel().\n",
      "  estimator.fit(X[:, features], y, **fit_params)\n",
      "C:\\Users\\HP PC\\Desktop\\dl1\\lib\\site-packages\\sklearn\\feature_selection\\_rfe.py:299: DataConversionWarning: A column-vector y was passed when a 1d array was expected. Please change the shape of y to (n_samples,), for example using ravel().\n",
      "  estimator.fit(X[:, features], y, **fit_params)\n",
      "C:\\Users\\HP PC\\Desktop\\dl1\\lib\\site-packages\\sklearn\\feature_selection\\_rfe.py:299: DataConversionWarning: A column-vector y was passed when a 1d array was expected. Please change the shape of y to (n_samples,), for example using ravel().\n",
      "  estimator.fit(X[:, features], y, **fit_params)\n",
      "C:\\Users\\HP PC\\Desktop\\dl1\\lib\\site-packages\\sklearn\\feature_selection\\_rfe.py:299: DataConversionWarning: A column-vector y was passed when a 1d array was expected. Please change the shape of y to (n_samples,), for example using ravel().\n",
      "  estimator.fit(X[:, features], y, **fit_params)\n",
      "C:\\Users\\HP PC\\Desktop\\dl1\\lib\\site-packages\\sklearn\\feature_selection\\_rfe.py:299: DataConversionWarning: A column-vector y was passed when a 1d array was expected. Please change the shape of y to (n_samples,), for example using ravel().\n",
      "  estimator.fit(X[:, features], y, **fit_params)\n",
      "C:\\Users\\HP PC\\Desktop\\dl1\\lib\\site-packages\\sklearn\\feature_selection\\_rfe.py:299: DataConversionWarning: A column-vector y was passed when a 1d array was expected. Please change the shape of y to (n_samples,), for example using ravel().\n",
      "  estimator.fit(X[:, features], y, **fit_params)\n",
      "C:\\Users\\HP PC\\Desktop\\dl1\\lib\\site-packages\\sklearn\\feature_selection\\_rfe.py:299: DataConversionWarning: A column-vector y was passed when a 1d array was expected. Please change the shape of y to (n_samples,), for example using ravel().\n",
      "  estimator.fit(X[:, features], y, **fit_params)\n",
      "C:\\Users\\HP PC\\Desktop\\dl1\\lib\\site-packages\\sklearn\\feature_selection\\_rfe.py:299: DataConversionWarning: A column-vector y was passed when a 1d array was expected. Please change the shape of y to (n_samples,), for example using ravel().\n",
      "  estimator.fit(X[:, features], y, **fit_params)\n",
      "C:\\Users\\HP PC\\Desktop\\dl1\\lib\\site-packages\\sklearn\\feature_selection\\_rfe.py:299: DataConversionWarning: A column-vector y was passed when a 1d array was expected. Please change the shape of y to (n_samples,), for example using ravel().\n",
      "  estimator.fit(X[:, features], y, **fit_params)\n",
      "C:\\Users\\HP PC\\Desktop\\dl1\\lib\\site-packages\\sklearn\\feature_selection\\_rfe.py:299: DataConversionWarning: A column-vector y was passed when a 1d array was expected. Please change the shape of y to (n_samples,), for example using ravel().\n",
      "  estimator.fit(X[:, features], y, **fit_params)\n",
      "C:\\Users\\HP PC\\Desktop\\dl1\\lib\\site-packages\\sklearn\\feature_selection\\_rfe.py:299: DataConversionWarning: A column-vector y was passed when a 1d array was expected. Please change the shape of y to (n_samples,), for example using ravel().\n",
      "  estimator.fit(X[:, features], y, **fit_params)\n",
      "C:\\Users\\HP PC\\Desktop\\dl1\\lib\\site-packages\\sklearn\\feature_selection\\_rfe.py:326: DataConversionWarning: A column-vector y was passed when a 1d array was expected. Please change the shape of y to (n_samples,), for example using ravel().\n",
      "  self.estimator_.fit(X[:, features], y, **fit_params)\n"
     ]
    },
    {
     "data": {
      "text/plain": [
       "array([ 6, 10,  4,  1, 25, 11,  2,  1, 19, 18, 15, 16, 13,  5, 22, 24, 17,\n",
       "       20, 21, 23,  1,  7,  1,  1, 12,  8,  3,  1,  9, 14])"
      ]
     },
     "execution_count": 134,
     "metadata": {},
     "output_type": "execute_result"
    }
   ],
   "source": [
    "from sklearn.feature_selection import RFE\n",
    "from sklearn.ensemble import RandomForestClassifier\n",
    "estimator = RandomForestClassifier(max_depth=2, random_state=0)\n",
    "selector = RFE(estimator, n_features_to_select=6, step=1)\n",
    "X_selected = selector.fit_transform(X, y)\n",
    "selected_indices = selector.get_support(indices=True)\n",
    "selector.ranking_"
   ]
  },
  {
   "cell_type": "code",
   "execution_count": 135,
   "id": "d46a7de5",
   "metadata": {
    "ExecuteTime": {
     "end_time": "2023-05-24T10:37:21.859957Z",
     "start_time": "2023-05-24T10:37:21.816889Z"
    }
   },
   "outputs": [
    {
     "data": {
      "text/plain": [
       "Index(['radius_mean', 'texture_mean', 'perimeter_mean', 'area_mean',\n",
       "       'smoothness_mean', 'compactness_mean', 'concavity_mean',\n",
       "       'concave points_mean', 'symmetry_mean', 'fractal_dimension_mean',\n",
       "       'radius_se', 'texture_se', 'perimeter_se', 'area_se', 'smoothness_se',\n",
       "       'compactness_se', 'concavity_se', 'concave points_se', 'symmetry_se',\n",
       "       'fractal_dimension_se', 'radius_worst', 'texture_worst',\n",
       "       'perimeter_worst', 'area_worst', 'smoothness_worst',\n",
       "       'compactness_worst', 'concavity_worst', 'concave points_worst',\n",
       "       'symmetry_worst', 'fractal_dimension_worst'],\n",
       "      dtype='object')"
      ]
     },
     "execution_count": 135,
     "metadata": {},
     "output_type": "execute_result"
    }
   ],
   "source": [
    "X.columns"
   ]
  },
  {
   "cell_type": "code",
   "execution_count": 136,
   "id": "67d8b884",
   "metadata": {
    "ExecuteTime": {
     "end_time": "2023-05-24T10:37:21.966121Z",
     "start_time": "2023-05-24T10:37:21.866965Z"
    }
   },
   "outputs": [],
   "source": [
    "df1 = pd.DataFrame({'area_mean': X[\"area_mean\"],'concave_points_mean': X[\"concave points_mean\"]\n",
    "                    ,'radius_worst': X[\"radius_worst\"],'perimeter_worst': X[\"perimeter_worst\"],\n",
    "                    'area_worst' : X[\"area_worst\"],\n",
    "                    'concave_points_worst' : X[\"concave points_worst\"],\n",
    "                   \"diagnosis\": y[\"diagnosis\"]})"
   ]
  },
  {
   "cell_type": "code",
   "execution_count": 137,
   "id": "6e30ce1c",
   "metadata": {
    "ExecuteTime": {
     "end_time": "2023-05-24T10:37:22.161417Z",
     "start_time": "2023-05-24T10:37:21.982143Z"
    }
   },
   "outputs": [
    {
     "data": {
      "text/html": [
       "<div>\n",
       "<style scoped>\n",
       "    .dataframe tbody tr th:only-of-type {\n",
       "        vertical-align: middle;\n",
       "    }\n",
       "\n",
       "    .dataframe tbody tr th {\n",
       "        vertical-align: top;\n",
       "    }\n",
       "\n",
       "    .dataframe thead th {\n",
       "        text-align: right;\n",
       "    }\n",
       "</style>\n",
       "<table border=\"1\" class=\"dataframe\">\n",
       "  <thead>\n",
       "    <tr style=\"text-align: right;\">\n",
       "      <th></th>\n",
       "      <th>area_mean</th>\n",
       "      <th>concave_points_mean</th>\n",
       "      <th>radius_worst</th>\n",
       "      <th>perimeter_worst</th>\n",
       "      <th>area_worst</th>\n",
       "      <th>concave_points_worst</th>\n",
       "      <th>diagnosis</th>\n",
       "    </tr>\n",
       "  </thead>\n",
       "  <tbody>\n",
       "    <tr>\n",
       "      <th>0</th>\n",
       "      <td>1001.0</td>\n",
       "      <td>0.14710</td>\n",
       "      <td>25.380</td>\n",
       "      <td>184.60</td>\n",
       "      <td>2019.0</td>\n",
       "      <td>0.2654</td>\n",
       "      <td>1</td>\n",
       "    </tr>\n",
       "    <tr>\n",
       "      <th>1</th>\n",
       "      <td>1326.0</td>\n",
       "      <td>0.07017</td>\n",
       "      <td>24.990</td>\n",
       "      <td>158.80</td>\n",
       "      <td>1956.0</td>\n",
       "      <td>0.1860</td>\n",
       "      <td>1</td>\n",
       "    </tr>\n",
       "    <tr>\n",
       "      <th>2</th>\n",
       "      <td>1203.0</td>\n",
       "      <td>0.12790</td>\n",
       "      <td>23.570</td>\n",
       "      <td>152.50</td>\n",
       "      <td>1709.0</td>\n",
       "      <td>0.2430</td>\n",
       "      <td>1</td>\n",
       "    </tr>\n",
       "    <tr>\n",
       "      <th>3</th>\n",
       "      <td>386.1</td>\n",
       "      <td>0.10520</td>\n",
       "      <td>14.910</td>\n",
       "      <td>98.87</td>\n",
       "      <td>567.7</td>\n",
       "      <td>0.2575</td>\n",
       "      <td>1</td>\n",
       "    </tr>\n",
       "    <tr>\n",
       "      <th>4</th>\n",
       "      <td>1297.0</td>\n",
       "      <td>0.10430</td>\n",
       "      <td>22.540</td>\n",
       "      <td>152.20</td>\n",
       "      <td>1575.0</td>\n",
       "      <td>0.1625</td>\n",
       "      <td>1</td>\n",
       "    </tr>\n",
       "    <tr>\n",
       "      <th>...</th>\n",
       "      <td>...</td>\n",
       "      <td>...</td>\n",
       "      <td>...</td>\n",
       "      <td>...</td>\n",
       "      <td>...</td>\n",
       "      <td>...</td>\n",
       "      <td>...</td>\n",
       "    </tr>\n",
       "    <tr>\n",
       "      <th>564</th>\n",
       "      <td>1479.0</td>\n",
       "      <td>0.13890</td>\n",
       "      <td>25.450</td>\n",
       "      <td>166.10</td>\n",
       "      <td>2027.0</td>\n",
       "      <td>0.2216</td>\n",
       "      <td>1</td>\n",
       "    </tr>\n",
       "    <tr>\n",
       "      <th>565</th>\n",
       "      <td>1261.0</td>\n",
       "      <td>0.09791</td>\n",
       "      <td>23.690</td>\n",
       "      <td>155.00</td>\n",
       "      <td>1731.0</td>\n",
       "      <td>0.1628</td>\n",
       "      <td>1</td>\n",
       "    </tr>\n",
       "    <tr>\n",
       "      <th>566</th>\n",
       "      <td>858.1</td>\n",
       "      <td>0.05302</td>\n",
       "      <td>18.980</td>\n",
       "      <td>126.70</td>\n",
       "      <td>1124.0</td>\n",
       "      <td>0.1418</td>\n",
       "      <td>1</td>\n",
       "    </tr>\n",
       "    <tr>\n",
       "      <th>567</th>\n",
       "      <td>1265.0</td>\n",
       "      <td>0.15200</td>\n",
       "      <td>25.740</td>\n",
       "      <td>184.60</td>\n",
       "      <td>1821.0</td>\n",
       "      <td>0.2650</td>\n",
       "      <td>1</td>\n",
       "    </tr>\n",
       "    <tr>\n",
       "      <th>568</th>\n",
       "      <td>181.0</td>\n",
       "      <td>0.00000</td>\n",
       "      <td>9.456</td>\n",
       "      <td>59.16</td>\n",
       "      <td>268.6</td>\n",
       "      <td>0.0000</td>\n",
       "      <td>0</td>\n",
       "    </tr>\n",
       "  </tbody>\n",
       "</table>\n",
       "<p>569 rows × 7 columns</p>\n",
       "</div>"
      ],
      "text/plain": [
       "     area_mean  concave_points_mean  radius_worst  perimeter_worst   \n",
       "0       1001.0              0.14710        25.380           184.60  \\\n",
       "1       1326.0              0.07017        24.990           158.80   \n",
       "2       1203.0              0.12790        23.570           152.50   \n",
       "3        386.1              0.10520        14.910            98.87   \n",
       "4       1297.0              0.10430        22.540           152.20   \n",
       "..         ...                  ...           ...              ...   \n",
       "564     1479.0              0.13890        25.450           166.10   \n",
       "565     1261.0              0.09791        23.690           155.00   \n",
       "566      858.1              0.05302        18.980           126.70   \n",
       "567     1265.0              0.15200        25.740           184.60   \n",
       "568      181.0              0.00000         9.456            59.16   \n",
       "\n",
       "     area_worst  concave_points_worst  diagnosis  \n",
       "0        2019.0                0.2654          1  \n",
       "1        1956.0                0.1860          1  \n",
       "2        1709.0                0.2430          1  \n",
       "3         567.7                0.2575          1  \n",
       "4        1575.0                0.1625          1  \n",
       "..          ...                   ...        ...  \n",
       "564      2027.0                0.2216          1  \n",
       "565      1731.0                0.1628          1  \n",
       "566      1124.0                0.1418          1  \n",
       "567      1821.0                0.2650          1  \n",
       "568       268.6                0.0000          0  \n",
       "\n",
       "[569 rows x 7 columns]"
      ]
     },
     "execution_count": 137,
     "metadata": {},
     "output_type": "execute_result"
    }
   ],
   "source": [
    "df1"
   ]
  },
  {
   "cell_type": "code",
   "execution_count": 138,
   "id": "028abf53",
   "metadata": {
    "ExecuteTime": {
     "end_time": "2023-05-24T10:37:22.281601Z",
     "start_time": "2023-05-24T10:37:22.177441Z"
    }
   },
   "outputs": [
    {
     "data": {
      "text/plain": [
       "Index(['area_mean', 'concave_points_mean', 'radius_worst', 'perimeter_worst',\n",
       "       'area_worst', 'concave_points_worst', 'diagnosis'],\n",
       "      dtype='object')"
      ]
     },
     "execution_count": 138,
     "metadata": {},
     "output_type": "execute_result"
    }
   ],
   "source": [
    "df1.columns"
   ]
  },
  {
   "cell_type": "code",
   "execution_count": 139,
   "id": "5693089a",
   "metadata": {
    "ExecuteTime": {
     "end_time": "2023-05-24T10:37:24.256630Z",
     "start_time": "2023-05-24T10:37:22.291619Z"
    },
    "scrolled": true
   },
   "outputs": [
    {
     "data": {
      "text/plain": [
       "<Axes: xlabel='concave_points_worst'>"
      ]
     },
     "execution_count": 139,
     "metadata": {},
     "output_type": "execute_result"
    },
    {
     "data": {
      "image/png": "[encoded data removed]",
      "text/plain": [
       "<Figure size 1200x1000 with 6 Axes>"
      ]
     },
     "metadata": {},
     "output_type": "display_data"
    }
   ],
   "source": [
    "plt.figure(figsize = (12,10))\n",
    "plt.subplot(331)\n",
    "sns.boxplot(x = df1.area_mean)\n",
    "\n",
    "plt.subplot(322)\n",
    "sns.boxplot(x = df1.concave_points_mean)\n",
    " \n",
    "plt.subplot(323)\n",
    "sns.boxplot(x = df1.radius_worst)\n",
    "\n",
    "plt.subplot(324)\n",
    "sns.boxplot(x = df1.perimeter_worst)\n",
    "\n",
    "plt.subplot(325)\n",
    "sns.boxplot(x = df1.area_worst)\n",
    "\n",
    "plt.subplot(326)\n",
    "sns.boxplot(x = df1.concave_points_worst)\n",
    "\n",
    "\n"
   ]
  },
  {
   "cell_type": "code",
   "execution_count": 140,
   "id": "4348d1a6",
   "metadata": {
    "ExecuteTime": {
     "end_time": "2023-05-24T10:37:45.054049Z",
     "start_time": "2023-05-24T10:37:45.042032Z"
    }
   },
   "outputs": [
    {
     "name": "stdout",
     "output_type": "stream",
     "text": [
      "494.7600000000003 1657.2000000000007 -321.84000000000043\n"
     ]
    }
   ],
   "source": [
    "Q1, Q2, Q3 = tuple(df1.area_mean.quantile(q = [0.25,0.5,0.80]).values)\n",
    "\n",
    "IQR = Q3-Q1\n",
    "UL = Q3 + 1.5*IQR\n",
    "LL = Q1 - 1.5*IQR\n",
    "\n",
    "print(IQR, UL, LL)"
   ]
  },
  {
   "cell_type": "code",
   "execution_count": 141,
   "id": "9f3391c1",
   "metadata": {
    "ExecuteTime": {
     "end_time": "2023-05-24T10:37:45.933412Z",
     "start_time": "2023-05-24T10:37:45.912381Z"
    }
   },
   "outputs": [
    {
     "data": {
      "text/plain": [
       "area_mean               12\n",
       "concave_points_mean     12\n",
       "radius_worst            12\n",
       "perimeter_worst         12\n",
       "area_worst              12\n",
       "concave_points_worst    12\n",
       "diagnosis               12\n",
       "dtype: int64"
      ]
     },
     "execution_count": 141,
     "metadata": {},
     "output_type": "execute_result"
    }
   ],
   "source": [
    "df1[(df1.area_mean > UL) | (df1.area_mean < LL)].count()\n"
   ]
  },
  {
   "cell_type": "code",
   "execution_count": 156,
   "id": "b5fb42f3",
   "metadata": {
    "ExecuteTime": {
     "end_time": "2023-05-24T10:47:07.543326Z",
     "start_time": "2023-05-24T10:47:07.529309Z"
    }
   },
   "outputs": [],
   "source": [
    "drop_list = df1[(df1.area_mean > UL) | (df1.area_mean < LL)]\n",
    "df1.drop(axis=0,index=drop_list.index,inplace=True)"
   ]
  },
  {
   "cell_type": "code",
   "execution_count": 157,
   "id": "51780963",
   "metadata": {
    "ExecuteTime": {
     "end_time": "2023-05-24T10:47:12.681130Z",
     "start_time": "2023-05-24T10:47:12.633056Z"
    }
   },
   "outputs": [
    {
     "data": {
      "text/html": [
       "<div>\n",
       "<style scoped>\n",
       "    .dataframe tbody tr th:only-of-type {\n",
       "        vertical-align: middle;\n",
       "    }\n",
       "\n",
       "    .dataframe tbody tr th {\n",
       "        vertical-align: top;\n",
       "    }\n",
       "\n",
       "    .dataframe thead th {\n",
       "        text-align: right;\n",
       "    }\n",
       "</style>\n",
       "<table border=\"1\" class=\"dataframe\">\n",
       "  <thead>\n",
       "    <tr style=\"text-align: right;\">\n",
       "      <th></th>\n",
       "      <th>area_mean</th>\n",
       "      <th>concave_points_mean</th>\n",
       "      <th>radius_worst</th>\n",
       "      <th>perimeter_worst</th>\n",
       "      <th>area_worst</th>\n",
       "      <th>concave_points_worst</th>\n",
       "      <th>diagnosis</th>\n",
       "    </tr>\n",
       "  </thead>\n",
       "  <tbody>\n",
       "    <tr>\n",
       "      <th>0</th>\n",
       "      <td>1001.0</td>\n",
       "      <td>0.14710</td>\n",
       "      <td>25.380</td>\n",
       "      <td>184.60</td>\n",
       "      <td>2019.0</td>\n",
       "      <td>0.2654</td>\n",
       "      <td>1</td>\n",
       "    </tr>\n",
       "    <tr>\n",
       "      <th>1</th>\n",
       "      <td>1326.0</td>\n",
       "      <td>0.07017</td>\n",
       "      <td>24.990</td>\n",
       "      <td>158.80</td>\n",
       "      <td>1956.0</td>\n",
       "      <td>0.1860</td>\n",
       "      <td>1</td>\n",
       "    </tr>\n",
       "    <tr>\n",
       "      <th>2</th>\n",
       "      <td>1203.0</td>\n",
       "      <td>0.12790</td>\n",
       "      <td>23.570</td>\n",
       "      <td>152.50</td>\n",
       "      <td>1709.0</td>\n",
       "      <td>0.2430</td>\n",
       "      <td>1</td>\n",
       "    </tr>\n",
       "    <tr>\n",
       "      <th>3</th>\n",
       "      <td>386.1</td>\n",
       "      <td>0.10520</td>\n",
       "      <td>14.910</td>\n",
       "      <td>98.87</td>\n",
       "      <td>567.7</td>\n",
       "      <td>0.2575</td>\n",
       "      <td>1</td>\n",
       "    </tr>\n",
       "    <tr>\n",
       "      <th>4</th>\n",
       "      <td>1297.0</td>\n",
       "      <td>0.10430</td>\n",
       "      <td>22.540</td>\n",
       "      <td>152.20</td>\n",
       "      <td>1575.0</td>\n",
       "      <td>0.1625</td>\n",
       "      <td>1</td>\n",
       "    </tr>\n",
       "    <tr>\n",
       "      <th>...</th>\n",
       "      <td>...</td>\n",
       "      <td>...</td>\n",
       "      <td>...</td>\n",
       "      <td>...</td>\n",
       "      <td>...</td>\n",
       "      <td>...</td>\n",
       "      <td>...</td>\n",
       "    </tr>\n",
       "    <tr>\n",
       "      <th>564</th>\n",
       "      <td>1479.0</td>\n",
       "      <td>0.13890</td>\n",
       "      <td>25.450</td>\n",
       "      <td>166.10</td>\n",
       "      <td>2027.0</td>\n",
       "      <td>0.2216</td>\n",
       "      <td>1</td>\n",
       "    </tr>\n",
       "    <tr>\n",
       "      <th>565</th>\n",
       "      <td>1261.0</td>\n",
       "      <td>0.09791</td>\n",
       "      <td>23.690</td>\n",
       "      <td>155.00</td>\n",
       "      <td>1731.0</td>\n",
       "      <td>0.1628</td>\n",
       "      <td>1</td>\n",
       "    </tr>\n",
       "    <tr>\n",
       "      <th>566</th>\n",
       "      <td>858.1</td>\n",
       "      <td>0.05302</td>\n",
       "      <td>18.980</td>\n",
       "      <td>126.70</td>\n",
       "      <td>1124.0</td>\n",
       "      <td>0.1418</td>\n",
       "      <td>1</td>\n",
       "    </tr>\n",
       "    <tr>\n",
       "      <th>567</th>\n",
       "      <td>1265.0</td>\n",
       "      <td>0.15200</td>\n",
       "      <td>25.740</td>\n",
       "      <td>184.60</td>\n",
       "      <td>1821.0</td>\n",
       "      <td>0.2650</td>\n",
       "      <td>1</td>\n",
       "    </tr>\n",
       "    <tr>\n",
       "      <th>568</th>\n",
       "      <td>181.0</td>\n",
       "      <td>0.00000</td>\n",
       "      <td>9.456</td>\n",
       "      <td>59.16</td>\n",
       "      <td>268.6</td>\n",
       "      <td>0.0000</td>\n",
       "      <td>0</td>\n",
       "    </tr>\n",
       "  </tbody>\n",
       "</table>\n",
       "<p>557 rows × 7 columns</p>\n",
       "</div>"
      ],
      "text/plain": [
       "     area_mean  concave_points_mean  radius_worst  perimeter_worst   \n",
       "0       1001.0              0.14710        25.380           184.60  \\\n",
       "1       1326.0              0.07017        24.990           158.80   \n",
       "2       1203.0              0.12790        23.570           152.50   \n",
       "3        386.1              0.10520        14.910            98.87   \n",
       "4       1297.0              0.10430        22.540           152.20   \n",
       "..         ...                  ...           ...              ...   \n",
       "564     1479.0              0.13890        25.450           166.10   \n",
       "565     1261.0              0.09791        23.690           155.00   \n",
       "566      858.1              0.05302        18.980           126.70   \n",
       "567     1265.0              0.15200        25.740           184.60   \n",
       "568      181.0              0.00000         9.456            59.16   \n",
       "\n",
       "     area_worst  concave_points_worst  diagnosis  \n",
       "0        2019.0                0.2654          1  \n",
       "1        1956.0                0.1860          1  \n",
       "2        1709.0                0.2430          1  \n",
       "3         567.7                0.2575          1  \n",
       "4        1575.0                0.1625          1  \n",
       "..          ...                   ...        ...  \n",
       "564      2027.0                0.2216          1  \n",
       "565      1731.0                0.1628          1  \n",
       "566      1124.0                0.1418          1  \n",
       "567      1821.0                0.2650          1  \n",
       "568       268.6                0.0000          0  \n",
       "\n",
       "[557 rows x 7 columns]"
      ]
     },
     "execution_count": 157,
     "metadata": {},
     "output_type": "execute_result"
    }
   ],
   "source": [
    "df1"
   ]
  },
  {
   "cell_type": "code",
   "execution_count": 76,
   "id": "d0e4e4eb",
   "metadata": {
    "ExecuteTime": {
     "end_time": "2023-05-24T10:24:21.014743Z",
     "start_time": "2023-05-24T10:24:21.003724Z"
    }
   },
   "outputs": [
    {
     "name": "stdout",
     "output_type": "stream",
     "text": [
      "0.06394400000000003 0.18017000000000005 -0.07560600000000003\n"
     ]
    }
   ],
   "source": [
    "Q1, Q2, Q3 = tuple(df1.concave_points_mean.quantile(q = [0.25,0.5,0.80]).values)\n",
    "\n",
    "IQR = Q3-Q1\n",
    "UL = Q3 + 1.5*IQR\n",
    "LL = Q1 - 1.5*IQR\n",
    "\n",
    "print(IQR, UL, LL)"
   ]
  },
  {
   "cell_type": "code",
   "execution_count": 158,
   "id": "1cdba6f7",
   "metadata": {
    "ExecuteTime": {
     "end_time": "2023-05-24T10:49:22.555696Z",
     "start_time": "2023-05-24T10:49:22.526649Z"
    }
   },
   "outputs": [
    {
     "data": {
      "text/plain": [
       "area_mean               0\n",
       "concave_points_mean     0\n",
       "radius_worst            0\n",
       "perimeter_worst         0\n",
       "area_worst              0\n",
       "concave_points_worst    0\n",
       "diagnosis               0\n",
       "dtype: int64"
      ]
     },
     "execution_count": 158,
     "metadata": {},
     "output_type": "execute_result"
    }
   ],
   "source": [
    " df1[(df1.concave_points_mean > UL) | (df1.concave_points_mean < LL)].count()"
   ]
  },
  {
   "cell_type": "code",
   "execution_count": 77,
   "id": "7848f6ab",
   "metadata": {
    "ExecuteTime": {
     "end_time": "2023-05-24T10:24:21.712496Z",
     "start_time": "2023-05-24T10:24:21.693470Z"
    }
   },
   "outputs": [
    {
     "data": {
      "text/plain": [
       "area_mean               5\n",
       "concave_points_mean     5\n",
       "radius_worst            5\n",
       "perimeter_worst         5\n",
       "area_worst              5\n",
       "concave_points_worst    5\n",
       "diagnosis               5\n",
       "dtype: int64"
      ]
     },
     "execution_count": 77,
     "metadata": {},
     "output_type": "execute_result"
    }
   ],
   "source": [
    "#drop_list = df1[(df1.concave_points_mean > UL) | (df1.concave_points_mean < LL)]\n",
    "#df1.drop(axis=0,index=drop_list.index,inplace=True)"
   ]
  },
  {
   "cell_type": "code",
   "execution_count": 159,
   "id": "c1e2cb29",
   "metadata": {
    "ExecuteTime": {
     "end_time": "2023-05-24T10:49:54.295605Z",
     "start_time": "2023-05-24T10:49:54.279576Z"
    }
   },
   "outputs": [
    {
     "name": "stdout",
     "output_type": "stream",
     "text": [
      "6.870000000000001 30.155 2.674999999999999\n"
     ]
    }
   ],
   "source": [
    "Q1, Q2, Q3 = tuple(df1.radius_worst.quantile(q = [0.25,0.5,0.80]).values)\n",
    "\n",
    "IQR = Q3-Q1\n",
    "UL = Q3 + 1.5*IQR\n",
    "LL = Q1 - 1.5*IQR\n",
    "\n",
    "print(IQR, UL, LL)"
   ]
  },
  {
   "cell_type": "code",
   "execution_count": 160,
   "id": "7b6282ea",
   "metadata": {
    "ExecuteTime": {
     "end_time": "2023-05-24T10:49:57.167558Z",
     "start_time": "2023-05-24T10:49:57.141517Z"
    }
   },
   "outputs": [
    {
     "data": {
      "text/plain": [
       "area_mean               2\n",
       "concave_points_mean     2\n",
       "radius_worst            2\n",
       "perimeter_worst         2\n",
       "area_worst              2\n",
       "concave_points_worst    2\n",
       "diagnosis               2\n",
       "dtype: int64"
      ]
     },
     "execution_count": 160,
     "metadata": {},
     "output_type": "execute_result"
    }
   ],
   "source": [
    "df1[(df1.radius_worst > UL) | (df1.radius_worst < LL)].count()"
   ]
  },
  {
   "cell_type": "code",
   "execution_count": 161,
   "id": "4dab3e40",
   "metadata": {
    "ExecuteTime": {
     "end_time": "2023-05-24T10:51:01.543244Z",
     "start_time": "2023-05-24T10:51:01.400399Z"
    }
   },
   "outputs": [],
   "source": [
    "drop_list = df1[(df1.radius_worst > UL) | (df1.radius_worst < LL)]\n",
    "df1.drop(axis=0,index=drop_list.index,inplace=True)"
   ]
  },
  {
   "cell_type": "code",
   "execution_count": 162,
   "id": "e226e2ae",
   "metadata": {
    "ExecuteTime": {
     "end_time": "2023-05-24T10:51:06.825925Z",
     "start_time": "2023-05-24T10:51:06.810901Z"
    }
   },
   "outputs": [
    {
     "name": "stdout",
     "output_type": "stream",
     "text": [
      "45.505000000000024 197.63750000000005 15.617499999999964\n"
     ]
    }
   ],
   "source": [
    "Q1, Q2, Q3 = tuple(df1.perimeter_worst.quantile(q = [0.25,0.5,0.80]).values)\n",
    "\n",
    "IQR = Q3-Q1\n",
    "UL = Q3 + 1.5*IQR\n",
    "LL = Q1 - 1.5*IQR\n",
    "\n",
    "print(IQR, UL, LL)"
   ]
  },
  {
   "cell_type": "code",
   "execution_count": 163,
   "id": "e35cddd5",
   "metadata": {
    "ExecuteTime": {
     "end_time": "2023-05-24T10:51:10.130006Z",
     "start_time": "2023-05-24T10:51:10.105962Z"
    }
   },
   "outputs": [
    {
     "data": {
      "text/plain": [
       "area_mean               1\n",
       "concave_points_mean     1\n",
       "radius_worst            1\n",
       "perimeter_worst         1\n",
       "area_worst              1\n",
       "concave_points_worst    1\n",
       "diagnosis               1\n",
       "dtype: int64"
      ]
     },
     "execution_count": 163,
     "metadata": {},
     "output_type": "execute_result"
    }
   ],
   "source": [
    "df1[(df1.perimeter_worst > UL) | (df1.perimeter_worst < LL)].count()"
   ]
  },
  {
   "cell_type": "code",
   "execution_count": 165,
   "id": "3cb05617",
   "metadata": {
    "ExecuteTime": {
     "end_time": "2023-05-24T10:52:56.497180Z",
     "start_time": "2023-05-24T10:52:56.484162Z"
    }
   },
   "outputs": [],
   "source": [
    "drop_list = df1[(df1.perimeter_worst > UL) | (df1.perimeter_worst < LL)]\n",
    "df1.drop(axis=0,index=drop_list.index,inplace=True)"
   ]
  },
  {
   "cell_type": "code",
   "execution_count": 166,
   "id": "df0aa78e",
   "metadata": {
    "ExecuteTime": {
     "end_time": "2023-05-24T10:53:00.213441Z",
     "start_time": "2023-05-24T10:53:00.197414Z"
    }
   },
   "outputs": [
    {
     "name": "stdout",
     "output_type": "stream",
     "text": [
      "709.7500000000001 2287.0250000000005 -551.9750000000003\n"
     ]
    }
   ],
   "source": [
    "Q1, Q2, Q3 = tuple(df1.area_worst.quantile(q = [0.25,0.5,0.80]).values)\n",
    "\n",
    "IQR = Q3-Q1\n",
    "UL = Q3 + 1.5*IQR\n",
    "LL = Q1 - 1.5*IQR\n",
    "\n",
    "print(IQR, UL, LL)"
   ]
  },
  {
   "cell_type": "code",
   "execution_count": 170,
   "id": "1fb65f7e",
   "metadata": {
    "ExecuteTime": {
     "end_time": "2023-05-24T10:54:32.838139Z",
     "start_time": "2023-05-24T10:54:32.813101Z"
    }
   },
   "outputs": [
    {
     "data": {
      "text/plain": [
       "area_mean               0\n",
       "concave_points_mean     0\n",
       "radius_worst            0\n",
       "perimeter_worst         0\n",
       "area_worst              0\n",
       "concave_points_worst    0\n",
       "diagnosis               0\n",
       "dtype: int64"
      ]
     },
     "execution_count": 170,
     "metadata": {},
     "output_type": "execute_result"
    }
   ],
   "source": [
    "df1[(df1.area_worst > UL) | (df1.area_worst < LL)].count()"
   ]
  },
  {
   "cell_type": "code",
   "execution_count": 168,
   "id": "532f0c05",
   "metadata": {
    "ExecuteTime": {
     "end_time": "2023-05-24T10:53:41.942619Z",
     "start_time": "2023-05-24T10:53:41.929599Z"
    }
   },
   "outputs": [],
   "source": [
    "drop_list = df1[(df1.area_worst > UL) | (df1.area_worst < LL)]\n",
    "df1.drop(axis=0,index=drop_list.index,inplace=True)"
   ]
  },
  {
   "cell_type": "code",
   "execution_count": 171,
   "id": "52fa650e",
   "metadata": {
    "ExecuteTime": {
     "end_time": "2023-05-24T10:55:04.930582Z",
     "start_time": "2023-05-24T10:55:04.887515Z"
    }
   },
   "outputs": [
    {
     "data": {
      "text/html": [
       "<div>\n",
       "<style scoped>\n",
       "    .dataframe tbody tr th:only-of-type {\n",
       "        vertical-align: middle;\n",
       "    }\n",
       "\n",
       "    .dataframe tbody tr th {\n",
       "        vertical-align: top;\n",
       "    }\n",
       "\n",
       "    .dataframe thead th {\n",
       "        text-align: right;\n",
       "    }\n",
       "</style>\n",
       "<table border=\"1\" class=\"dataframe\">\n",
       "  <thead>\n",
       "    <tr style=\"text-align: right;\">\n",
       "      <th></th>\n",
       "      <th>area_mean</th>\n",
       "      <th>concave_points_mean</th>\n",
       "      <th>radius_worst</th>\n",
       "      <th>perimeter_worst</th>\n",
       "      <th>area_worst</th>\n",
       "      <th>concave_points_worst</th>\n",
       "      <th>diagnosis</th>\n",
       "    </tr>\n",
       "  </thead>\n",
       "  <tbody>\n",
       "    <tr>\n",
       "      <th>0</th>\n",
       "      <td>1001.0</td>\n",
       "      <td>0.14710</td>\n",
       "      <td>25.380</td>\n",
       "      <td>184.60</td>\n",
       "      <td>2019.0</td>\n",
       "      <td>0.2654</td>\n",
       "      <td>1</td>\n",
       "    </tr>\n",
       "    <tr>\n",
       "      <th>1</th>\n",
       "      <td>1326.0</td>\n",
       "      <td>0.07017</td>\n",
       "      <td>24.990</td>\n",
       "      <td>158.80</td>\n",
       "      <td>1956.0</td>\n",
       "      <td>0.1860</td>\n",
       "      <td>1</td>\n",
       "    </tr>\n",
       "    <tr>\n",
       "      <th>2</th>\n",
       "      <td>1203.0</td>\n",
       "      <td>0.12790</td>\n",
       "      <td>23.570</td>\n",
       "      <td>152.50</td>\n",
       "      <td>1709.0</td>\n",
       "      <td>0.2430</td>\n",
       "      <td>1</td>\n",
       "    </tr>\n",
       "    <tr>\n",
       "      <th>3</th>\n",
       "      <td>386.1</td>\n",
       "      <td>0.10520</td>\n",
       "      <td>14.910</td>\n",
       "      <td>98.87</td>\n",
       "      <td>567.7</td>\n",
       "      <td>0.2575</td>\n",
       "      <td>1</td>\n",
       "    </tr>\n",
       "    <tr>\n",
       "      <th>4</th>\n",
       "      <td>1297.0</td>\n",
       "      <td>0.10430</td>\n",
       "      <td>22.540</td>\n",
       "      <td>152.20</td>\n",
       "      <td>1575.0</td>\n",
       "      <td>0.1625</td>\n",
       "      <td>1</td>\n",
       "    </tr>\n",
       "    <tr>\n",
       "      <th>...</th>\n",
       "      <td>...</td>\n",
       "      <td>...</td>\n",
       "      <td>...</td>\n",
       "      <td>...</td>\n",
       "      <td>...</td>\n",
       "      <td>...</td>\n",
       "      <td>...</td>\n",
       "    </tr>\n",
       "    <tr>\n",
       "      <th>564</th>\n",
       "      <td>1479.0</td>\n",
       "      <td>0.13890</td>\n",
       "      <td>25.450</td>\n",
       "      <td>166.10</td>\n",
       "      <td>2027.0</td>\n",
       "      <td>0.2216</td>\n",
       "      <td>1</td>\n",
       "    </tr>\n",
       "    <tr>\n",
       "      <th>565</th>\n",
       "      <td>1261.0</td>\n",
       "      <td>0.09791</td>\n",
       "      <td>23.690</td>\n",
       "      <td>155.00</td>\n",
       "      <td>1731.0</td>\n",
       "      <td>0.1628</td>\n",
       "      <td>1</td>\n",
       "    </tr>\n",
       "    <tr>\n",
       "      <th>566</th>\n",
       "      <td>858.1</td>\n",
       "      <td>0.05302</td>\n",
       "      <td>18.980</td>\n",
       "      <td>126.70</td>\n",
       "      <td>1124.0</td>\n",
       "      <td>0.1418</td>\n",
       "      <td>1</td>\n",
       "    </tr>\n",
       "    <tr>\n",
       "      <th>567</th>\n",
       "      <td>1265.0</td>\n",
       "      <td>0.15200</td>\n",
       "      <td>25.740</td>\n",
       "      <td>184.60</td>\n",
       "      <td>1821.0</td>\n",
       "      <td>0.2650</td>\n",
       "      <td>1</td>\n",
       "    </tr>\n",
       "    <tr>\n",
       "      <th>568</th>\n",
       "      <td>181.0</td>\n",
       "      <td>0.00000</td>\n",
       "      <td>9.456</td>\n",
       "      <td>59.16</td>\n",
       "      <td>268.6</td>\n",
       "      <td>0.0000</td>\n",
       "      <td>0</td>\n",
       "    </tr>\n",
       "  </tbody>\n",
       "</table>\n",
       "<p>550 rows × 7 columns</p>\n",
       "</div>"
      ],
      "text/plain": [
       "     area_mean  concave_points_mean  radius_worst  perimeter_worst   \n",
       "0       1001.0              0.14710        25.380           184.60  \\\n",
       "1       1326.0              0.07017        24.990           158.80   \n",
       "2       1203.0              0.12790        23.570           152.50   \n",
       "3        386.1              0.10520        14.910            98.87   \n",
       "4       1297.0              0.10430        22.540           152.20   \n",
       "..         ...                  ...           ...              ...   \n",
       "564     1479.0              0.13890        25.450           166.10   \n",
       "565     1261.0              0.09791        23.690           155.00   \n",
       "566      858.1              0.05302        18.980           126.70   \n",
       "567     1265.0              0.15200        25.740           184.60   \n",
       "568      181.0              0.00000         9.456            59.16   \n",
       "\n",
       "     area_worst  concave_points_worst  diagnosis  \n",
       "0        2019.0                0.2654          1  \n",
       "1        1956.0                0.1860          1  \n",
       "2        1709.0                0.2430          1  \n",
       "3         567.7                0.2575          1  \n",
       "4        1575.0                0.1625          1  \n",
       "..          ...                   ...        ...  \n",
       "564      2027.0                0.2216          1  \n",
       "565      1731.0                0.1628          1  \n",
       "566      1124.0                0.1418          1  \n",
       "567      1821.0                0.2650          1  \n",
       "568       268.6                0.0000          0  \n",
       "\n",
       "[550 rows x 7 columns]"
      ]
     },
     "execution_count": 171,
     "metadata": {},
     "output_type": "execute_result"
    }
   ],
   "source": [
    "df1"
   ]
  },
  {
   "cell_type": "code",
   "execution_count": 197,
   "id": "63816c62",
   "metadata": {
    "ExecuteTime": {
     "end_time": "2023-05-24T11:26:18.865391Z",
     "start_time": "2023-05-24T11:26:18.828332Z"
    }
   },
   "outputs": [
    {
     "name": "stdout",
     "output_type": "stream",
     "text": [
      "<class 'pandas.core.frame.DataFrame'>\n",
      "Index: 550 entries, 0 to 568\n",
      "Data columns (total 7 columns):\n",
      " #   Column                Non-Null Count  Dtype  \n",
      "---  ------                --------------  -----  \n",
      " 0   area_mean             550 non-null    float64\n",
      " 1   concave_points_mean   550 non-null    float64\n",
      " 2   radius_worst          550 non-null    float64\n",
      " 3   perimeter_worst       550 non-null    float64\n",
      " 4   area_worst            550 non-null    float64\n",
      " 5   concave_points_worst  550 non-null    float64\n",
      " 6   diagnosis             550 non-null    int64  \n",
      "dtypes: float64(6), int64(1)\n",
      "memory usage: 34.4 KB\n"
     ]
    }
   ],
   "source": [
    "df1.info()"
   ]
  },
  {
   "cell_type": "code",
   "execution_count": 288,
   "id": "1c517067",
   "metadata": {
    "ExecuteTime": {
     "end_time": "2023-05-24T12:11:26.015120Z",
     "start_time": "2023-05-24T12:11:25.531376Z"
    }
   },
   "outputs": [
    {
     "data": {
      "image/png": "[encoded data removed]",
      "text/plain": [
       "<Figure size 400x400 with 1 Axes>"
      ]
     },
     "metadata": {
      "image/png": {
       "height": 351,
       "width": 366
      }
     },
     "output_type": "display_data"
    }
   ],
   "source": [
    "plt.figure(figsize=(4,4))\n",
    "plt.bar(df1[\"diagnosis\"].unique(), df1[\"diagnosis\"].value_counts(), color = [\"green\",\"red\"] )\n",
    "plt.show();\n",
    "\n"
   ]
  },
  {
   "cell_type": "code",
   "execution_count": null,
   "id": "eaa4d039",
   "metadata": {
    "ExecuteTime": {
     "end_time": "2023-05-24T12:21:07.866821Z",
     "start_time": "2023-05-24T12:21:07.866821Z"
    },
    "scrolled": true
   },
   "outputs": [],
   "source": [
    "sns.pairplot(df1.iloc[:,:],hue='diagnosis');"
   ]
  },
  {
   "cell_type": "code",
   "execution_count": 290,
   "id": "514dc961",
   "metadata": {
    "ExecuteTime": {
     "end_time": "2023-05-24T12:21:08.110194Z",
     "start_time": "2023-05-24T12:21:08.026063Z"
    }
   },
   "outputs": [],
   "source": [
    "# Performing train test split and Building MLP"
   ]
  },
  {
   "cell_type": "code",
   "execution_count": 175,
   "id": "bcd3d2ff",
   "metadata": {
    "ExecuteTime": {
     "end_time": "2023-05-24T10:58:45.866594Z",
     "start_time": "2023-05-24T10:58:45.853574Z"
    }
   },
   "outputs": [],
   "source": [
    "X = df[['area_mean','concave points_mean','radius_worst','perimeter_worst','area_worst','concave points_worst']]\n",
    "y = df[[\"diagnosis\"]]"
   ]
  },
  {
   "cell_type": "code",
   "execution_count": 203,
   "id": "3415b570",
   "metadata": {
    "ExecuteTime": {
     "end_time": "2023-05-24T11:29:23.296726Z",
     "start_time": "2023-05-24T11:29:23.286706Z"
    }
   },
   "outputs": [],
   "source": [
    "import tensorflow\n",
    "from tensorflow import keras\n",
    "from keras.models import Sequential \n",
    "from keras.layers import Dense \n",
    "from keras.layers import Dropout, BatchNormalization\n",
    "from keras.callbacks import EarlyStopping"
   ]
  },
  {
   "cell_type": "code",
   "execution_count": 269,
   "id": "54b7d742",
   "metadata": {
    "ExecuteTime": {
     "end_time": "2023-05-24T11:50:18.528701Z",
     "start_time": "2023-05-24T11:50:18.516680Z"
    }
   },
   "outputs": [],
   "source": [
    "from sklearn.model_selection import train_test_split\n",
    "X_train,X_test,y_train,y_test = train_test_split(X,y, test_size=0.2)"
   ]
  },
  {
   "cell_type": "code",
   "execution_count": 270,
   "id": "3bd877c7",
   "metadata": {
    "ExecuteTime": {
     "end_time": "2023-05-24T11:50:19.319012Z",
     "start_time": "2023-05-24T11:50:19.310997Z"
    }
   },
   "outputs": [
    {
     "name": "stdout",
     "output_type": "stream",
     "text": [
      "(455, 6) (114, 6)\n",
      "(455, 1) (114, 1)\n"
     ]
    }
   ],
   "source": [
    "print(X_train.shape,X_test.shape)\n",
    "print(y_train.shape,y_test.shape)"
   ]
  },
  {
   "cell_type": "code",
   "execution_count": 271,
   "id": "a939a705",
   "metadata": {
    "ExecuteTime": {
     "end_time": "2023-05-24T11:50:20.057338Z",
     "start_time": "2023-05-24T11:50:20.041312Z"
    }
   },
   "outputs": [],
   "source": [
    "from sklearn.preprocessing import StandardScaler\n",
    "std = StandardScaler()\n",
    "X_train_trans=std.fit_transform(X_train)\n"
   ]
  },
  {
   "cell_type": "code",
   "execution_count": 272,
   "id": "164c1a44",
   "metadata": {
    "ExecuteTime": {
     "end_time": "2023-05-24T11:50:20.801564Z",
     "start_time": "2023-05-24T11:50:20.790545Z"
    }
   },
   "outputs": [],
   "source": [
    "X_test_trans = std.transform(X_test)"
   ]
  },
  {
   "cell_type": "code",
   "execution_count": 273,
   "id": "2d8fe0bd",
   "metadata": {
    "ExecuteTime": {
     "end_time": "2023-05-24T11:50:21.513470Z",
     "start_time": "2023-05-24T11:50:21.307155Z"
    }
   },
   "outputs": [],
   "source": [
    "model = Sequential()\n",
    "model.add(Dense(8,activation='relu',kernel_initializer = 'random_uniform' ,input_dim = 6))\n",
    "model.add(Dense(6,activation='relu',kernel_initializer = 'random_uniform'))\n",
    "model.add(Dense(4,activation='relu',kernel_initializer = 'random_uniform'))\n",
    "model.add(Dense(2,activation='relu',kernel_initializer = 'random_uniform'))\n",
    "model.add(Dense(1,activation='sigmoid'))"
   ]
  },
  {
   "cell_type": "code",
   "execution_count": 274,
   "id": "e45aa173",
   "metadata": {
    "ExecuteTime": {
     "end_time": "2023-05-24T11:50:21.998228Z",
     "start_time": "2023-05-24T11:50:21.943144Z"
    }
   },
   "outputs": [
    {
     "name": "stdout",
     "output_type": "stream",
     "text": [
      "Model: \"sequential_7\"\n",
      "_________________________________________________________________\n",
      " Layer (type)                Output Shape              Param #   \n",
      "=================================================================\n",
      " dense_29 (Dense)            (None, 8)                 56        \n",
      "                                                                 \n",
      " dense_30 (Dense)            (None, 6)                 54        \n",
      "                                                                 \n",
      " dense_31 (Dense)            (None, 4)                 28        \n",
      "                                                                 \n",
      " dense_32 (Dense)            (None, 2)                 10        \n",
      "                                                                 \n",
      " dense_33 (Dense)            (None, 1)                 3         \n",
      "                                                                 \n",
      "=================================================================\n",
      "Total params: 151\n",
      "Trainable params: 151\n",
      "Non-trainable params: 0\n",
      "_________________________________________________________________\n"
     ]
    }
   ],
   "source": [
    "model.summary()"
   ]
  },
  {
   "cell_type": "code",
   "execution_count": 275,
   "id": "bda73dff",
   "metadata": {
    "ExecuteTime": {
     "end_time": "2023-05-24T11:50:22.692921Z",
     "start_time": "2023-05-24T11:50:22.685907Z"
    }
   },
   "outputs": [],
   "source": [
    "# Model Compilation and Training"
   ]
  },
  {
   "cell_type": "code",
   "execution_count": 276,
   "id": "962869ee",
   "metadata": {
    "ExecuteTime": {
     "end_time": "2023-05-24T11:50:23.567354Z",
     "start_time": "2023-05-24T11:50:23.540317Z"
    }
   },
   "outputs": [],
   "source": [
    "model.compile(optimizer='Adam',loss = 'binary_crossentropy',metrics = ['accuracy'])"
   ]
  },
  {
   "cell_type": "code",
   "execution_count": 277,
   "id": "4d97f636",
   "metadata": {
    "ExecuteTime": {
     "end_time": "2023-05-24T11:50:24.273061Z",
     "start_time": "2023-05-24T11:50:24.265050Z"
    }
   },
   "outputs": [],
   "source": [
    "call = EarlyStopping(monitor='val_loss',\n",
    "    min_delta=0.00001,\n",
    "    patience=3,\n",
    "    verbose=0,\n",
    "    mode='auto')"
   ]
  },
  {
   "cell_type": "code",
   "execution_count": 278,
   "id": "316553d1",
   "metadata": {
    "ExecuteTime": {
     "end_time": "2023-05-24T11:51:04.697697Z",
     "start_time": "2023-05-24T11:50:25.137553Z"
    }
   },
   "outputs": [
    {
     "name": "stdout",
     "output_type": "stream",
     "text": [
      "Epoch 1/200\n",
      "46/46 [==============================] - 4s 17ms/step - loss: 0.6912 - accuracy: 0.5769 - val_loss: 0.6857 - val_accuracy: 0.6593\n",
      "Epoch 2/200\n",
      "46/46 [==============================] - 0s 8ms/step - loss: 0.6812 - accuracy: 0.6209 - val_loss: 0.6619 - val_accuracy: 0.6593\n",
      "Epoch 3/200\n",
      "46/46 [==============================] - 0s 8ms/step - loss: 0.6406 - accuracy: 0.6209 - val_loss: 0.5810 - val_accuracy: 0.6593\n",
      "Epoch 4/200\n",
      "46/46 [==============================] - 0s 8ms/step - loss: 0.5413 - accuracy: 0.6209 - val_loss: 0.4394 - val_accuracy: 0.6593\n",
      "Epoch 5/200\n",
      "46/46 [==============================] - 0s 8ms/step - loss: 0.4262 - accuracy: 0.6209 - val_loss: 0.3415 - val_accuracy: 0.6593\n",
      "Epoch 6/200\n",
      "46/46 [==============================] - 0s 8ms/step - loss: 0.3670 - accuracy: 0.6209 - val_loss: 0.3039 - val_accuracy: 0.6593\n",
      "Epoch 7/200\n",
      "46/46 [==============================] - 0s 8ms/step - loss: 0.3454 - accuracy: 0.8984 - val_loss: 0.2888 - val_accuracy: 0.9560\n",
      "Epoch 8/200\n",
      "46/46 [==============================] - 0s 8ms/step - loss: 0.3350 - accuracy: 0.9341 - val_loss: 0.2804 - val_accuracy: 0.9670\n",
      "Epoch 9/200\n",
      "46/46 [==============================] - 0s 8ms/step - loss: 0.3275 - accuracy: 0.9313 - val_loss: 0.2733 - val_accuracy: 0.9670\n",
      "Epoch 10/200\n",
      "46/46 [==============================] - 0s 8ms/step - loss: 0.3217 - accuracy: 0.9286 - val_loss: 0.2665 - val_accuracy: 0.9780\n",
      "Epoch 11/200\n",
      "46/46 [==============================] - 0s 8ms/step - loss: 0.3140 - accuracy: 0.9396 - val_loss: 0.2618 - val_accuracy: 0.9780\n",
      "Epoch 12/200\n",
      "46/46 [==============================] - 0s 8ms/step - loss: 0.3086 - accuracy: 0.9341 - val_loss: 0.2559 - val_accuracy: 0.9780\n",
      "Epoch 13/200\n",
      "46/46 [==============================] - 0s 8ms/step - loss: 0.3033 - accuracy: 0.9396 - val_loss: 0.2515 - val_accuracy: 0.9780\n",
      "Epoch 14/200\n",
      "46/46 [==============================] - 0s 9ms/step - loss: 0.2984 - accuracy: 0.9396 - val_loss: 0.2462 - val_accuracy: 0.9780\n",
      "Epoch 15/200\n",
      "46/46 [==============================] - 0s 8ms/step - loss: 0.2933 - accuracy: 0.9396 - val_loss: 0.2415 - val_accuracy: 0.9780\n",
      "Epoch 16/200\n",
      "46/46 [==============================] - 0s 8ms/step - loss: 0.2888 - accuracy: 0.9423 - val_loss: 0.2372 - val_accuracy: 0.9780\n",
      "Epoch 17/200\n",
      "46/46 [==============================] - 0s 8ms/step - loss: 0.2843 - accuracy: 0.9423 - val_loss: 0.2338 - val_accuracy: 0.9780\n",
      "Epoch 18/200\n",
      "46/46 [==============================] - 0s 8ms/step - loss: 0.2797 - accuracy: 0.9396 - val_loss: 0.2296 - val_accuracy: 0.9780\n",
      "Epoch 19/200\n",
      "46/46 [==============================] - 0s 8ms/step - loss: 0.2756 - accuracy: 0.9368 - val_loss: 0.2258 - val_accuracy: 0.9780\n",
      "Epoch 20/200\n",
      "46/46 [==============================] - 0s 8ms/step - loss: 0.2717 - accuracy: 0.9423 - val_loss: 0.2223 - val_accuracy: 0.9780\n",
      "Epoch 21/200\n",
      "46/46 [==============================] - 0s 8ms/step - loss: 0.2679 - accuracy: 0.9396 - val_loss: 0.2179 - val_accuracy: 0.9780\n",
      "Epoch 22/200\n",
      "46/46 [==============================] - 0s 8ms/step - loss: 0.2638 - accuracy: 0.9368 - val_loss: 0.2149 - val_accuracy: 0.9780\n",
      "Epoch 23/200\n",
      "46/46 [==============================] - 0s 8ms/step - loss: 0.2600 - accuracy: 0.9396 - val_loss: 0.2116 - val_accuracy: 0.9780\n",
      "Epoch 24/200\n",
      "46/46 [==============================] - 0s 9ms/step - loss: 0.2569 - accuracy: 0.9396 - val_loss: 0.2082 - val_accuracy: 0.9780\n",
      "Epoch 25/200\n",
      "46/46 [==============================] - 0s 8ms/step - loss: 0.2537 - accuracy: 0.9368 - val_loss: 0.2046 - val_accuracy: 0.9780\n",
      "Epoch 26/200\n",
      "46/46 [==============================] - 0s 8ms/step - loss: 0.2502 - accuracy: 0.9368 - val_loss: 0.2024 - val_accuracy: 0.9780\n",
      "Epoch 27/200\n",
      "46/46 [==============================] - 0s 8ms/step - loss: 0.2471 - accuracy: 0.9396 - val_loss: 0.1993 - val_accuracy: 0.9780\n",
      "Epoch 28/200\n",
      "46/46 [==============================] - 0s 8ms/step - loss: 0.2447 - accuracy: 0.9423 - val_loss: 0.1966 - val_accuracy: 0.9780\n",
      "Epoch 29/200\n",
      "46/46 [==============================] - 0s 8ms/step - loss: 0.2413 - accuracy: 0.9423 - val_loss: 0.1949 - val_accuracy: 0.9670\n",
      "Epoch 30/200\n",
      "46/46 [==============================] - 0s 8ms/step - loss: 0.2383 - accuracy: 0.9396 - val_loss: 0.1902 - val_accuracy: 0.9780\n",
      "Epoch 31/200\n",
      "46/46 [==============================] - 0s 8ms/step - loss: 0.2355 - accuracy: 0.9423 - val_loss: 0.1879 - val_accuracy: 0.9780\n",
      "Epoch 32/200\n",
      "46/46 [==============================] - 0s 9ms/step - loss: 0.2326 - accuracy: 0.9423 - val_loss: 0.1854 - val_accuracy: 0.9780\n",
      "Epoch 33/200\n",
      "46/46 [==============================] - 0s 8ms/step - loss: 0.2303 - accuracy: 0.9423 - val_loss: 0.1842 - val_accuracy: 0.9780\n",
      "Epoch 34/200\n",
      "46/46 [==============================] - 0s 8ms/step - loss: 0.2274 - accuracy: 0.9396 - val_loss: 0.1819 - val_accuracy: 0.9670\n",
      "Epoch 35/200\n",
      "46/46 [==============================] - 0s 10ms/step - loss: 0.2249 - accuracy: 0.9423 - val_loss: 0.1801 - val_accuracy: 0.9670\n",
      "Epoch 36/200\n",
      "46/46 [==============================] - 0s 10ms/step - loss: 0.2226 - accuracy: 0.9423 - val_loss: 0.1788 - val_accuracy: 0.9670\n",
      "Epoch 37/200\n",
      "46/46 [==============================] - 0s 7ms/step - loss: 0.2203 - accuracy: 0.9451 - val_loss: 0.1772 - val_accuracy: 0.9670\n",
      "Epoch 38/200\n",
      "46/46 [==============================] - 0s 7ms/step - loss: 0.2189 - accuracy: 0.9423 - val_loss: 0.1748 - val_accuracy: 0.9670\n",
      "Epoch 39/200\n",
      "46/46 [==============================] - 0s 8ms/step - loss: 0.2152 - accuracy: 0.9478 - val_loss: 0.1730 - val_accuracy: 0.9670\n",
      "Epoch 40/200\n",
      "46/46 [==============================] - 0s 7ms/step - loss: 0.2130 - accuracy: 0.9451 - val_loss: 0.1707 - val_accuracy: 0.9670\n",
      "Epoch 41/200\n",
      "46/46 [==============================] - 0s 10ms/step - loss: 0.2112 - accuracy: 0.9451 - val_loss: 0.1689 - val_accuracy: 0.9670\n",
      "Epoch 42/200\n",
      "46/46 [==============================] - 0s 7ms/step - loss: 0.2094 - accuracy: 0.9451 - val_loss: 0.1670 - val_accuracy: 0.9670\n",
      "Epoch 43/200\n",
      "46/46 [==============================] - 0s 6ms/step - loss: 0.2069 - accuracy: 0.9478 - val_loss: 0.1651 - val_accuracy: 0.9670\n",
      "Epoch 44/200\n",
      "46/46 [==============================] - 0s 6ms/step - loss: 0.2052 - accuracy: 0.9451 - val_loss: 0.1636 - val_accuracy: 0.9670\n",
      "Epoch 45/200\n",
      "46/46 [==============================] - 0s 6ms/step - loss: 0.2032 - accuracy: 0.9478 - val_loss: 0.1622 - val_accuracy: 0.9670\n",
      "Epoch 46/200\n",
      "46/46 [==============================] - 0s 6ms/step - loss: 0.2016 - accuracy: 0.9478 - val_loss: 0.1595 - val_accuracy: 0.9670\n",
      "Epoch 47/200\n",
      "46/46 [==============================] - 0s 6ms/step - loss: 0.1997 - accuracy: 0.9478 - val_loss: 0.1588 - val_accuracy: 0.9670\n",
      "Epoch 48/200\n",
      "46/46 [==============================] - 0s 7ms/step - loss: 0.1978 - accuracy: 0.9478 - val_loss: 0.1576 - val_accuracy: 0.9670\n",
      "Epoch 49/200\n",
      "46/46 [==============================] - 0s 6ms/step - loss: 0.1964 - accuracy: 0.9505 - val_loss: 0.1569 - val_accuracy: 0.9670\n",
      "Epoch 50/200\n",
      "46/46 [==============================] - 0s 6ms/step - loss: 0.1951 - accuracy: 0.9478 - val_loss: 0.1543 - val_accuracy: 0.9670\n",
      "Epoch 51/200\n",
      "46/46 [==============================] - 0s 7ms/step - loss: 0.1935 - accuracy: 0.9478 - val_loss: 0.1548 - val_accuracy: 0.9670\n",
      "Epoch 52/200\n",
      "46/46 [==============================] - 0s 7ms/step - loss: 0.1916 - accuracy: 0.9505 - val_loss: 0.1523 - val_accuracy: 0.9670\n",
      "Epoch 53/200\n",
      "46/46 [==============================] - 0s 9ms/step - loss: 0.1902 - accuracy: 0.9505 - val_loss: 0.1507 - val_accuracy: 0.9670\n",
      "Epoch 54/200\n",
      "46/46 [==============================] - 0s 9ms/step - loss: 0.1901 - accuracy: 0.9478 - val_loss: 0.1511 - val_accuracy: 0.9670\n",
      "Epoch 55/200\n",
      "46/46 [==============================] - 0s 7ms/step - loss: 0.1888 - accuracy: 0.9478 - val_loss: 0.1488 - val_accuracy: 0.9670\n",
      "Epoch 56/200\n",
      "46/46 [==============================] - 0s 9ms/step - loss: 0.1866 - accuracy: 0.9505 - val_loss: 0.1502 - val_accuracy: 0.9670\n",
      "Epoch 57/200\n",
      "46/46 [==============================] - 0s 8ms/step - loss: 0.1848 - accuracy: 0.9505 - val_loss: 0.1459 - val_accuracy: 0.9670\n",
      "Epoch 58/200\n",
      "46/46 [==============================] - 0s 7ms/step - loss: 0.1839 - accuracy: 0.9533 - val_loss: 0.1470 - val_accuracy: 0.9670\n"
     ]
    },
    {
     "name": "stdout",
     "output_type": "stream",
     "text": [
      "Epoch 59/200\n",
      "46/46 [==============================] - 0s 7ms/step - loss: 0.1821 - accuracy: 0.9533 - val_loss: 0.1445 - val_accuracy: 0.9670\n",
      "Epoch 60/200\n",
      "46/46 [==============================] - 0s 8ms/step - loss: 0.1812 - accuracy: 0.9533 - val_loss: 0.1443 - val_accuracy: 0.9670\n",
      "Epoch 61/200\n",
      "46/46 [==============================] - 0s 5ms/step - loss: 0.1800 - accuracy: 0.9505 - val_loss: 0.1435 - val_accuracy: 0.9670\n",
      "Epoch 62/200\n",
      "46/46 [==============================] - 0s 5ms/step - loss: 0.1797 - accuracy: 0.9505 - val_loss: 0.1424 - val_accuracy: 0.9670\n",
      "Epoch 63/200\n",
      "46/46 [==============================] - 0s 6ms/step - loss: 0.1780 - accuracy: 0.9505 - val_loss: 0.1409 - val_accuracy: 0.9670\n",
      "Epoch 64/200\n",
      "46/46 [==============================] - 0s 6ms/step - loss: 0.1766 - accuracy: 0.9505 - val_loss: 0.1400 - val_accuracy: 0.9670\n",
      "Epoch 65/200\n",
      "46/46 [==============================] - 0s 6ms/step - loss: 0.1753 - accuracy: 0.9533 - val_loss: 0.1407 - val_accuracy: 0.9670\n",
      "Epoch 66/200\n",
      "46/46 [==============================] - 0s 6ms/step - loss: 0.1740 - accuracy: 0.9560 - val_loss: 0.1399 - val_accuracy: 0.9670\n",
      "Epoch 67/200\n",
      "46/46 [==============================] - 0s 6ms/step - loss: 0.1731 - accuracy: 0.9533 - val_loss: 0.1393 - val_accuracy: 0.9670\n",
      "Epoch 68/200\n",
      "46/46 [==============================] - 0s 6ms/step - loss: 0.1721 - accuracy: 0.9533 - val_loss: 0.1369 - val_accuracy: 0.9670\n",
      "Epoch 69/200\n",
      "46/46 [==============================] - 0s 6ms/step - loss: 0.1716 - accuracy: 0.9533 - val_loss: 0.1364 - val_accuracy: 0.9670\n",
      "Epoch 70/200\n",
      "46/46 [==============================] - 0s 6ms/step - loss: 0.1701 - accuracy: 0.9533 - val_loss: 0.1369 - val_accuracy: 0.9670\n",
      "Epoch 71/200\n",
      "46/46 [==============================] - 0s 6ms/step - loss: 0.1696 - accuracy: 0.9560 - val_loss: 0.1354 - val_accuracy: 0.9670\n",
      "Epoch 72/200\n",
      "46/46 [==============================] - 0s 6ms/step - loss: 0.1686 - accuracy: 0.9560 - val_loss: 0.1357 - val_accuracy: 0.9670\n",
      "Epoch 73/200\n",
      "46/46 [==============================] - 0s 6ms/step - loss: 0.1679 - accuracy: 0.9560 - val_loss: 0.1364 - val_accuracy: 0.9670\n",
      "Epoch 74/200\n",
      "46/46 [==============================] - 0s 7ms/step - loss: 0.1665 - accuracy: 0.9533 - val_loss: 0.1346 - val_accuracy: 0.9670\n",
      "Epoch 75/200\n",
      "46/46 [==============================] - 0s 5ms/step - loss: 0.1657 - accuracy: 0.9533 - val_loss: 0.1331 - val_accuracy: 0.9670\n",
      "Epoch 76/200\n",
      "46/46 [==============================] - 0s 5ms/step - loss: 0.1649 - accuracy: 0.9560 - val_loss: 0.1339 - val_accuracy: 0.9670\n",
      "Epoch 77/200\n",
      "46/46 [==============================] - 0s 6ms/step - loss: 0.1636 - accuracy: 0.9560 - val_loss: 0.1318 - val_accuracy: 0.9670\n",
      "Epoch 78/200\n",
      "46/46 [==============================] - 0s 6ms/step - loss: 0.1634 - accuracy: 0.9560 - val_loss: 0.1328 - val_accuracy: 0.9670\n",
      "Epoch 79/200\n",
      "46/46 [==============================] - 0s 6ms/step - loss: 0.1634 - accuracy: 0.9533 - val_loss: 0.1311 - val_accuracy: 0.9670\n",
      "Epoch 80/200\n",
      "46/46 [==============================] - 0s 6ms/step - loss: 0.1619 - accuracy: 0.9533 - val_loss: 0.1289 - val_accuracy: 0.9670\n",
      "Epoch 81/200\n",
      "46/46 [==============================] - 0s 6ms/step - loss: 0.1619 - accuracy: 0.9533 - val_loss: 0.1320 - val_accuracy: 0.9670\n",
      "Epoch 82/200\n",
      "46/46 [==============================] - 0s 7ms/step - loss: 0.1594 - accuracy: 0.9560 - val_loss: 0.1278 - val_accuracy: 0.9670\n",
      "Epoch 83/200\n",
      "46/46 [==============================] - 0s 5ms/step - loss: 0.1591 - accuracy: 0.9588 - val_loss: 0.1293 - val_accuracy: 0.9670\n",
      "Epoch 84/200\n",
      "46/46 [==============================] - 0s 5ms/step - loss: 0.1588 - accuracy: 0.9533 - val_loss: 0.1268 - val_accuracy: 0.9670\n",
      "Epoch 85/200\n",
      "46/46 [==============================] - 0s 6ms/step - loss: 0.1580 - accuracy: 0.9560 - val_loss: 0.1284 - val_accuracy: 0.9670\n",
      "Epoch 86/200\n",
      "46/46 [==============================] - 0s 7ms/step - loss: 0.1569 - accuracy: 0.9560 - val_loss: 0.1272 - val_accuracy: 0.9670\n",
      "Epoch 87/200\n",
      "46/46 [==============================] - 0s 7ms/step - loss: 0.1562 - accuracy: 0.9588 - val_loss: 0.1260 - val_accuracy: 0.9670\n",
      "Epoch 88/200\n",
      "46/46 [==============================] - 0s 8ms/step - loss: 0.1560 - accuracy: 0.9588 - val_loss: 0.1264 - val_accuracy: 0.9670\n",
      "Epoch 89/200\n",
      "46/46 [==============================] - 0s 8ms/step - loss: 0.1547 - accuracy: 0.9560 - val_loss: 0.1251 - val_accuracy: 0.9670\n",
      "Epoch 90/200\n",
      "46/46 [==============================] - 0s 8ms/step - loss: 0.1546 - accuracy: 0.9560 - val_loss: 0.1269 - val_accuracy: 0.9670\n",
      "Epoch 91/200\n",
      "46/46 [==============================] - 0s 8ms/step - loss: 0.1539 - accuracy: 0.9588 - val_loss: 0.1246 - val_accuracy: 0.9670\n",
      "Epoch 92/200\n",
      "46/46 [==============================] - 0s 9ms/step - loss: 0.1530 - accuracy: 0.9560 - val_loss: 0.1242 - val_accuracy: 0.9670\n",
      "Epoch 93/200\n",
      "46/46 [==============================] - 0s 8ms/step - loss: 0.1527 - accuracy: 0.9560 - val_loss: 0.1244 - val_accuracy: 0.9670\n",
      "Epoch 94/200\n",
      "46/46 [==============================] - 0s 7ms/step - loss: 0.1519 - accuracy: 0.9560 - val_loss: 0.1240 - val_accuracy: 0.9670\n",
      "Epoch 95/200\n",
      "46/46 [==============================] - 0s 7ms/step - loss: 0.1529 - accuracy: 0.9560 - val_loss: 0.1256 - val_accuracy: 0.9670\n",
      "Epoch 96/200\n",
      "46/46 [==============================] - 0s 6ms/step - loss: 0.1508 - accuracy: 0.9615 - val_loss: 0.1255 - val_accuracy: 0.9670\n",
      "Epoch 97/200\n",
      "46/46 [==============================] - 0s 6ms/step - loss: 0.1506 - accuracy: 0.9615 - val_loss: 0.1235 - val_accuracy: 0.9670\n",
      "Epoch 98/200\n",
      "46/46 [==============================] - 0s 6ms/step - loss: 0.1495 - accuracy: 0.9588 - val_loss: 0.1234 - val_accuracy: 0.9670\n",
      "Epoch 99/200\n",
      "46/46 [==============================] - 0s 6ms/step - loss: 0.1487 - accuracy: 0.9560 - val_loss: 0.1228 - val_accuracy: 0.9670\n",
      "Epoch 100/200\n",
      "46/46 [==============================] - 0s 6ms/step - loss: 0.1493 - accuracy: 0.9615 - val_loss: 0.1227 - val_accuracy: 0.9670\n",
      "Epoch 101/200\n",
      "46/46 [==============================] - 0s 6ms/step - loss: 0.1473 - accuracy: 0.9588 - val_loss: 0.1221 - val_accuracy: 0.9670\n",
      "Epoch 102/200\n",
      "46/46 [==============================] - 0s 7ms/step - loss: 0.1471 - accuracy: 0.9588 - val_loss: 0.1241 - val_accuracy: 0.9670\n",
      "Epoch 103/200\n",
      "46/46 [==============================] - 0s 5ms/step - loss: 0.1464 - accuracy: 0.9588 - val_loss: 0.1210 - val_accuracy: 0.9670\n",
      "Epoch 104/200\n",
      "46/46 [==============================] - 0s 6ms/step - loss: 0.1448 - accuracy: 0.9615 - val_loss: 0.1216 - val_accuracy: 0.9670\n",
      "Epoch 105/200\n",
      "46/46 [==============================] - 0s 6ms/step - loss: 0.1457 - accuracy: 0.9615 - val_loss: 0.1229 - val_accuracy: 0.9670\n",
      "Epoch 106/200\n",
      "46/46 [==============================] - 0s 7ms/step - loss: 0.1444 - accuracy: 0.9615 - val_loss: 0.1219 - val_accuracy: 0.9670\n"
     ]
    }
   ],
   "source": [
    "history=model.fit(X_train_trans,y_train,batch_size=8 ,epochs=200,validation_split=0.2, callbacks=call)"
   ]
  },
  {
   "cell_type": "code",
   "execution_count": 279,
   "id": "e083d2ce",
   "metadata": {
    "ExecuteTime": {
     "end_time": "2023-05-24T11:51:10.077276Z",
     "start_time": "2023-05-24T11:51:09.566213Z"
    }
   },
   "outputs": [
    {
     "name": "stdout",
     "output_type": "stream",
     "text": [
      "15/15 [==============================] - 0s 5ms/step\n"
     ]
    }
   ],
   "source": [
    "X_pred = model.predict(X_train_trans)"
   ]
  },
  {
   "cell_type": "code",
   "execution_count": 280,
   "id": "5b235348",
   "metadata": {
    "ExecuteTime": {
     "end_time": "2023-05-24T11:51:10.658308Z",
     "start_time": "2023-05-24T11:51:10.644288Z"
    }
   },
   "outputs": [],
   "source": [
    "X_final_pred = np.where(X_pred>0.5,1,0)"
   ]
  },
  {
   "cell_type": "code",
   "execution_count": 281,
   "id": "8c8cde90",
   "metadata": {
    "ExecuteTime": {
     "end_time": "2023-05-24T11:51:11.547148Z",
     "start_time": "2023-05-24T11:51:11.523104Z"
    }
   },
   "outputs": [
    {
     "data": {
      "text/plain": [
       "0.9604395604395605"
      ]
     },
     "execution_count": 281,
     "metadata": {},
     "output_type": "execute_result"
    }
   ],
   "source": [
    "from sklearn.metrics import accuracy_score\n",
    "accuracy_score(y_train,X_final_pred)"
   ]
  },
  {
   "cell_type": "code",
   "execution_count": 282,
   "id": "4d5fff58",
   "metadata": {
    "ExecuteTime": {
     "end_time": "2023-05-24T11:51:14.954769Z",
     "start_time": "2023-05-24T11:51:14.669331Z"
    }
   },
   "outputs": [
    {
     "name": "stdout",
     "output_type": "stream",
     "text": [
      "4/4 [==============================] - 0s 5ms/step\n"
     ]
    }
   ],
   "source": [
    "y_pred = model.predict(X_test_trans)\n"
   ]
  },
  {
   "cell_type": "code",
   "execution_count": 283,
   "id": "1c11b2fd",
   "metadata": {
    "ExecuteTime": {
     "end_time": "2023-05-24T11:51:16.026116Z",
     "start_time": "2023-05-24T11:51:16.017103Z"
    }
   },
   "outputs": [],
   "source": [
    "y_final_pred=np.where(y_pred>0.5,1,0)"
   ]
  },
  {
   "cell_type": "code",
   "execution_count": 284,
   "id": "1dfcea9a",
   "metadata": {
    "ExecuteTime": {
     "end_time": "2023-05-24T11:51:17.101290Z",
     "start_time": "2023-05-24T11:51:17.076251Z"
    }
   },
   "outputs": [
    {
     "data": {
      "text/plain": [
       "0.9736842105263158"
      ]
     },
     "execution_count": 284,
     "metadata": {},
     "output_type": "execute_result"
    }
   ],
   "source": [
    "from sklearn.metrics import accuracy_score\n",
    "accuracy_score(y_test,y_final_pred)"
   ]
  },
  {
   "cell_type": "code",
   "execution_count": 286,
   "id": "92f9370c",
   "metadata": {
    "ExecuteTime": {
     "end_time": "2023-05-24T11:52:55.900975Z",
     "start_time": "2023-05-24T11:52:55.355140Z"
    }
   },
   "outputs": [
    {
     "data": {
      "image/png": "[encoded data removed]",
      "text/plain": [
       "<Figure size 640x480 with 1 Axes>"
      ]
     },
     "metadata": {
      "image/png": {
       "height": 417,
       "width": 547
      }
     },
     "output_type": "display_data"
    }
   ],
   "source": [
    "plt.plot(history.history['loss'])\n",
    "plt.plot(history.history['val_loss'])\n",
    "plt.plot(history.history[\"accuracy\"]);"
   ]
  },
  {
   "cell_type": "markdown",
   "id": "fcb92830",
   "metadata": {},
   "source": [
    "\n",
    "\n",
    "### Train Accuracy : 96.04%\n",
    "### Test Accuracy : 97.36%"
   ]
  },
  {
   "cell_type": "code",
   "execution_count": 268,
   "id": "f24c0e7f",
   "metadata": {
    "ExecuteTime": {
     "end_time": "2023-05-24T11:49:54.559935Z",
     "start_time": "2023-05-24T11:49:54.550920Z"
    }
   },
   "outputs": [],
   "source": [
    "# from mlxtend.plotting import plot_decision_regions"
   ]
  },
  {
   "cell_type": "code",
   "execution_count": null,
   "id": "45f1f355",
   "metadata": {},
   "outputs": [],
   "source": [
    "# plot_decision_regions(X.values,y.values.astype(int),clf=model)"
   ]
  },
  {
   "cell_type": "code",
   "execution_count": null,
   "id": "62ff1319",
   "metadata": {},
   "outputs": [],
   "source": [
    "# plot_decision_regions(X_test_trans,y_test.values.astype(int),clf=model)"
   ]
  },
  {
   "cell_type": "code",
   "execution_count": null,
   "id": "bb5cb973",
   "metadata": {},
   "outputs": [],
   "source": []
  },
  {
   "cell_type": "code",
   "execution_count": null,
   "id": "1785bff0",
   "metadata": {},
   "outputs": [],
   "source": []
  }
 ],
 "metadata": {
  "kernelspec": {
   "display_name": "Python 3 (ipykernel)",
   "language": "python",
   "name": "python3"
  },
  "language_info": {
   "codemirror_mode": {
    "name": "ipython",
    "version": 3
   },
   "file_extension": ".py",
   "mimetype": "text/x-python",
   "name": "python",
   "nbconvert_exporter": "python",
   "pygments_lexer": "ipython3",
   "version": "3.9.12"
  }
 },
 "nbformat": 4,
 "nbformat_minor": 5
}
